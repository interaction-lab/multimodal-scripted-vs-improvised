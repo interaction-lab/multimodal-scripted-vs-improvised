{
 "cells": [
  {
   "cell_type": "markdown",
   "id": "4b15b8be",
   "metadata": {},
   "source": [
    "# Splitting improv vs scripted"
   ]
  },
  {
   "cell_type": "code",
   "execution_count": 118,
   "id": "b9cdca91",
   "metadata": {},
   "outputs": [
    {
     "data": {
      "text/html": [
       "<div>\n",
       "<style scoped>\n",
       "    .dataframe tbody tr th:only-of-type {\n",
       "        vertical-align: middle;\n",
       "    }\n",
       "\n",
       "    .dataframe tbody tr th {\n",
       "        vertical-align: top;\n",
       "    }\n",
       "\n",
       "    .dataframe thead th {\n",
       "        text-align: right;\n",
       "    }\n",
       "</style>\n",
       "<table border=\"1\" class=\"dataframe\">\n",
       "  <thead>\n",
       "    <tr style=\"text-align: right;\">\n",
       "      <th></th>\n",
       "      <th>utt_id</th>\n",
       "      <th>EDA</th>\n",
       "      <th>filename</th>\n",
       "      <th>session_number</th>\n",
       "      <th>speaker</th>\n",
       "      <th>improv_script_id</th>\n",
       "      <th>start</th>\n",
       "      <th>end</th>\n",
       "      <th>utterance</th>\n",
       "      <th>original_order</th>\n",
       "    </tr>\n",
       "  </thead>\n",
       "  <tbody>\n",
       "    <tr>\n",
       "      <th>0</th>\n",
       "      <td>0</td>\n",
       "      <td>sd</td>\n",
       "      <td>Ses01M_impro07</td>\n",
       "      <td>1</td>\n",
       "      <td>M</td>\n",
       "      <td>impro07</td>\n",
       "      <td>2.6812</td>\n",
       "      <td>7.9800</td>\n",
       "      <td>Check this out.  You know how I've told you I'...</td>\n",
       "      <td>0</td>\n",
       "    </tr>\n",
       "    <tr>\n",
       "      <th>1</th>\n",
       "      <td>0</td>\n",
       "      <td>b</td>\n",
       "      <td>Ses01M_impro07</td>\n",
       "      <td>1</td>\n",
       "      <td>F</td>\n",
       "      <td>impro07</td>\n",
       "      <td>7.6300</td>\n",
       "      <td>8.5700</td>\n",
       "      <td>Yeah.</td>\n",
       "      <td>1</td>\n",
       "    </tr>\n",
       "    <tr>\n",
       "      <th>2</th>\n",
       "      <td>1</td>\n",
       "      <td>sd</td>\n",
       "      <td>Ses01M_impro07</td>\n",
       "      <td>1</td>\n",
       "      <td>M</td>\n",
       "      <td>impro07</td>\n",
       "      <td>8.2200</td>\n",
       "      <td>14.7500</td>\n",
       "      <td>Well, this is totally random, I got this full ...</td>\n",
       "      <td>2</td>\n",
       "    </tr>\n",
       "    <tr>\n",
       "      <th>3</th>\n",
       "      <td>1</td>\n",
       "      <td>qy</td>\n",
       "      <td>Ses01M_impro07</td>\n",
       "      <td>1</td>\n",
       "      <td>F</td>\n",
       "      <td>impro07</td>\n",
       "      <td>13.9500</td>\n",
       "      <td>21.1200</td>\n",
       "      <td>[LAUGHTER]. For softball? That's unbelievable....</td>\n",
       "      <td>3</td>\n",
       "    </tr>\n",
       "    <tr>\n",
       "      <th>4</th>\n",
       "      <td>2</td>\n",
       "      <td>qy</td>\n",
       "      <td>Ses01M_impro07</td>\n",
       "      <td>1</td>\n",
       "      <td>M</td>\n",
       "      <td>impro07</td>\n",
       "      <td>15.5400</td>\n",
       "      <td>20.6700</td>\n",
       "      <td>For softball.  They're going to pay me to go t...</td>\n",
       "      <td>4</td>\n",
       "    </tr>\n",
       "    <tr>\n",
       "      <th>...</th>\n",
       "      <td>...</td>\n",
       "      <td>...</td>\n",
       "      <td>...</td>\n",
       "      <td>...</td>\n",
       "      <td>...</td>\n",
       "      <td>...</td>\n",
       "      <td>...</td>\n",
       "      <td>...</td>\n",
       "      <td>...</td>\n",
       "      <td>...</td>\n",
       "    </tr>\n",
       "    <tr>\n",
       "      <th>10034</th>\n",
       "      <td>24</td>\n",
       "      <td>qy</td>\n",
       "      <td>Ses05F_script01_3</td>\n",
       "      <td>5</td>\n",
       "      <td>F</td>\n",
       "      <td>script01_3</td>\n",
       "      <td>404.1923</td>\n",
       "      <td>406.6600</td>\n",
       "      <td>Do you still feel like that?</td>\n",
       "      <td>63</td>\n",
       "    </tr>\n",
       "    <tr>\n",
       "      <th>10035</th>\n",
       "      <td>39</td>\n",
       "      <td>sd</td>\n",
       "      <td>Ses05F_script01_3</td>\n",
       "      <td>5</td>\n",
       "      <td>M</td>\n",
       "      <td>script01_3</td>\n",
       "      <td>407.9600</td>\n",
       "      <td>410.7823</td>\n",
       "      <td>I I want you now, Annie.</td>\n",
       "      <td>64</td>\n",
       "    </tr>\n",
       "    <tr>\n",
       "      <th>10036</th>\n",
       "      <td>25</td>\n",
       "      <td>qy</td>\n",
       "      <td>Ses05F_script01_3</td>\n",
       "      <td>5</td>\n",
       "      <td>F</td>\n",
       "      <td>script01_3</td>\n",
       "      <td>410.4317</td>\n",
       "      <td>427.7079</td>\n",
       "      <td>Because you can't feel like that anymore Chris...</td>\n",
       "      <td>65</td>\n",
       "    </tr>\n",
       "    <tr>\n",
       "      <th>10037</th>\n",
       "      <td>40</td>\n",
       "      <td>sd</td>\n",
       "      <td>Ses05F_script01_3</td>\n",
       "      <td>5</td>\n",
       "      <td>M</td>\n",
       "      <td>script01_3</td>\n",
       "      <td>426.7965</td>\n",
       "      <td>431.8242</td>\n",
       "      <td>Oh Annie.  Annie, I am going to make you a for...</td>\n",
       "      <td>66</td>\n",
       "    </tr>\n",
       "    <tr>\n",
       "      <th>10038</th>\n",
       "      <td>26</td>\n",
       "      <td>qw</td>\n",
       "      <td>Ses05F_script01_3</td>\n",
       "      <td>5</td>\n",
       "      <td>F</td>\n",
       "      <td>script01_3</td>\n",
       "      <td>431.1832</td>\n",
       "      <td>434.1377</td>\n",
       "      <td>What would I do with a fortune?</td>\n",
       "      <td>67</td>\n",
       "    </tr>\n",
       "  </tbody>\n",
       "</table>\n",
       "<p>10039 rows × 10 columns</p>\n",
       "</div>"
      ],
      "text/plain": [
       "       utt_id EDA           filename  session_number speaker improv_script_id  \\\n",
       "0           0  sd     Ses01M_impro07               1       M          impro07   \n",
       "1           0   b     Ses01M_impro07               1       F          impro07   \n",
       "2           1  sd     Ses01M_impro07               1       M          impro07   \n",
       "3           1  qy     Ses01M_impro07               1       F          impro07   \n",
       "4           2  qy     Ses01M_impro07               1       M          impro07   \n",
       "...       ...  ..                ...             ...     ...              ...   \n",
       "10034      24  qy  Ses05F_script01_3               5       F       script01_3   \n",
       "10035      39  sd  Ses05F_script01_3               5       M       script01_3   \n",
       "10036      25  qy  Ses05F_script01_3               5       F       script01_3   \n",
       "10037      40  sd  Ses05F_script01_3               5       M       script01_3   \n",
       "10038      26  qw  Ses05F_script01_3               5       F       script01_3   \n",
       "\n",
       "          start       end                                          utterance  \\\n",
       "0        2.6812    7.9800  Check this out.  You know how I've told you I'...   \n",
       "1        7.6300    8.5700                                              Yeah.   \n",
       "2        8.2200   14.7500  Well, this is totally random, I got this full ...   \n",
       "3       13.9500   21.1200  [LAUGHTER]. For softball? That's unbelievable....   \n",
       "4       15.5400   20.6700  For softball.  They're going to pay me to go t...   \n",
       "...         ...       ...                                                ...   \n",
       "10034  404.1923  406.6600                       Do you still feel like that?   \n",
       "10035  407.9600  410.7823                           I I want you now, Annie.   \n",
       "10036  410.4317  427.7079  Because you can't feel like that anymore Chris...   \n",
       "10037  426.7965  431.8242  Oh Annie.  Annie, I am going to make you a for...   \n",
       "10038  431.1832  434.1377                    What would I do with a fortune?   \n",
       "\n",
       "       original_order  \n",
       "0                   0  \n",
       "1                   1  \n",
       "2                   2  \n",
       "3                   3  \n",
       "4                   4  \n",
       "...               ...  \n",
       "10034              63  \n",
       "10035              64  \n",
       "10036              65  \n",
       "10037              66  \n",
       "10038              67  \n",
       "\n",
       "[10039 rows x 10 columns]"
      ]
     },
     "execution_count": 118,
     "metadata": {},
     "output_type": "execute_result"
    }
   ],
   "source": [
    "import re \n",
    "import os\n",
    "import pandas as pd\n",
    "import numpy as np\n",
    "from transformers import AutoTokenizer\n",
    "from transformers import DataCollatorWithPadding\n",
    "from transformers import AutoModelForSequenceClassification, TrainingArguments, Trainer\n",
    "import evaluate\n",
    "from collections import Counter\n",
    "from sklearn.model_selection import train_test_split\n",
    "\n",
    "\n",
    "# 1. Access the corresponding .txt, .wav, and .avi files for each EDA label\n",
    "# Extract the conversation filename and speaker informationfrom the dataset\n",
    "eda_df = pd.read_csv(\"eda_iemocap_no_utts_dataset.csv\")\n",
    "eda_df = eda_df[[\"speaker\", \"utt_id\", \"EDA\"]]\n",
    "filename_ids = []\n",
    "speaker_M_F = []\n",
    "session_numbers = []\n",
    "for i, row in eda_df.iterrows():\n",
    "    match = re.search(r\"b'(Ses(\\d+)[MF]_.+\\d+.*)_([MF])\", row[\"speaker\"])\n",
    "    filename_ids.append(match.group(1))\n",
    "    session_numbers.append(int(match.group(2))) \n",
    "    speaker_M_F.append(match.group(3))\n",
    "eda_df = eda_df.drop(columns=[\"speaker\"])\n",
    "eda_df[\"filename\"] = filename_ids\n",
    "eda_df[\"filename\"] = eda_df[\"filename\"].astype(str)\n",
    "eda_df[\"session_number\"] = session_numbers\n",
    "eda_df[\"session_number\"] = eda_df[\"session_number\"].astype(int)\n",
    "eda_df[\"speaker\"] = speaker_M_F\n",
    "eda_df[\"speaker\"] = eda_df[\"speaker\"].astype(str)\n",
    "eda_df[\"utt_id\"] = eda_df[\"utt_id\"].astype(int)\n",
    "# Access transcipt files based on filename\n",
    "utt_df = []\n",
    "root_dir = \"IEMOCAP_full_release/\"\n",
    "for i in range(1, 6):\n",
    "    directory = os.path.join(root_dir, f\"Session{i}/dialog/transcriptions/\")\n",
    "    for entry in os.scandir(directory):  \n",
    "        if entry.is_file() and entry.path.endswith(\".txt\"):  # check if it's a file\n",
    "            try:\n",
    "                with open(entry.path, \"r\") as file:\n",
    "                    filename = entry.path.split(\"/\")[-1][:-4]\n",
    "                    lines = file.readlines()\n",
    "                    for order, line in enumerate(lines):\n",
    "                        speaker_info, utterance = line.split(\":\")[0], line.split(\":\")[1]\n",
    "                        pattern = r\"(F|M)(\\d+)\\s\\[(\\d+\\.\\d+)-(\\d+\\.\\d+)\\]\"\n",
    "                        match = re.search(pattern, speaker_info)\n",
    "                        if match is None:\n",
    "                            continue\n",
    "                        speaker_f_m = match.group(1)\n",
    "                        utt_id = match.group(2)\n",
    "                        start = match.group(3)\n",
    "                        end = match.group(4)\n",
    "                        utt_df.append({\"utt_id\": int(utt_id), \"filename\": str(filename), \"improv_script_id\": str(filename[7:]), \"start\": float(start), \"end\": float(end), \"speaker\": str(speaker_f_m.strip()), \"utterance\": utterance.strip(), \"session_number\": int(i), \"original_order\": order})\n",
    "            except:\n",
    "                #print(entry.path) # these are meta files with ._ prepended to text file name\n",
    "                continue\n",
    "utt_df = pd.DataFrame(utt_df)\n",
    "# Combine the EDA and utterances together\n",
    "final_df = pd.merge(eda_df, utt_df, on=[\"utt_id\", \"session_number\", \"filename\", \"speaker\"])\n",
    "final_df"
   ]
  },
  {
   "cell_type": "code",
   "execution_count": 125,
   "id": "3d4e3a2d",
   "metadata": {},
   "outputs": [
    {
     "data": {
      "text/html": [
       "<div>\n",
       "<style scoped>\n",
       "    .dataframe tbody tr th:only-of-type {\n",
       "        vertical-align: middle;\n",
       "    }\n",
       "\n",
       "    .dataframe tbody tr th {\n",
       "        vertical-align: top;\n",
       "    }\n",
       "\n",
       "    .dataframe thead th {\n",
       "        text-align: right;\n",
       "    }\n",
       "</style>\n",
       "<table border=\"1\" class=\"dataframe\">\n",
       "  <thead>\n",
       "    <tr style=\"text-align: right;\">\n",
       "      <th></th>\n",
       "      <th>utt_id</th>\n",
       "      <th>EDA</th>\n",
       "      <th>filename</th>\n",
       "      <th>session_number</th>\n",
       "      <th>speaker</th>\n",
       "      <th>improv_script_id</th>\n",
       "      <th>start</th>\n",
       "      <th>end</th>\n",
       "      <th>utterance</th>\n",
       "      <th>original_order</th>\n",
       "    </tr>\n",
       "  </thead>\n",
       "  <tbody>\n",
       "    <tr>\n",
       "      <th>88</th>\n",
       "      <td>9</td>\n",
       "      <td>qy</td>\n",
       "      <td>Ses01F_impro01</td>\n",
       "      <td>1</td>\n",
       "      <td>M</td>\n",
       "      <td>impro01</td>\n",
       "      <td>65.5100</td>\n",
       "      <td>73.0000</td>\n",
       "      <td>A birth certificate, a passport...a student ID...</td>\n",
       "      <td>19</td>\n",
       "    </tr>\n",
       "    <tr>\n",
       "      <th>89</th>\n",
       "      <td>10</td>\n",
       "      <td>qw</td>\n",
       "      <td>Ses01F_impro01</td>\n",
       "      <td>1</td>\n",
       "      <td>F</td>\n",
       "      <td>impro01</td>\n",
       "      <td>66.4200</td>\n",
       "      <td>69.3400</td>\n",
       "      <td>Who the hell has a birth certificate?</td>\n",
       "      <td>20</td>\n",
       "    </tr>\n",
       "    <tr>\n",
       "      <th>905</th>\n",
       "      <td>9</td>\n",
       "      <td>qy</td>\n",
       "      <td>Ses01M_impro01</td>\n",
       "      <td>1</td>\n",
       "      <td>F</td>\n",
       "      <td>impro01</td>\n",
       "      <td>52.3400</td>\n",
       "      <td>55.1200</td>\n",
       "      <td>Well, do you have your passport?</td>\n",
       "      <td>19</td>\n",
       "    </tr>\n",
       "    <tr>\n",
       "      <th>906</th>\n",
       "      <td>10</td>\n",
       "      <td>sd</td>\n",
       "      <td>Ses01M_impro01</td>\n",
       "      <td>1</td>\n",
       "      <td>M</td>\n",
       "      <td>impro01</td>\n",
       "      <td>54.4900</td>\n",
       "      <td>56.7100</td>\n",
       "      <td>No, I don't have a passport.</td>\n",
       "      <td>20</td>\n",
       "    </tr>\n",
       "    <tr>\n",
       "      <th>2322</th>\n",
       "      <td>9</td>\n",
       "      <td>sv</td>\n",
       "      <td>Ses02F_impro01</td>\n",
       "      <td>2</td>\n",
       "      <td>M</td>\n",
       "      <td>impro01</td>\n",
       "      <td>72.2875</td>\n",
       "      <td>79.2332</td>\n",
       "      <td>I think you're just gonna--you're gonna have t...</td>\n",
       "      <td>19</td>\n",
       "    </tr>\n",
       "    <tr>\n",
       "      <th>...</th>\n",
       "      <td>...</td>\n",
       "      <td>...</td>\n",
       "      <td>...</td>\n",
       "      <td>...</td>\n",
       "      <td>...</td>\n",
       "      <td>...</td>\n",
       "      <td>...</td>\n",
       "      <td>...</td>\n",
       "      <td>...</td>\n",
       "      <td>...</td>\n",
       "    </tr>\n",
       "    <tr>\n",
       "      <th>8066</th>\n",
       "      <td>15</td>\n",
       "      <td>sv</td>\n",
       "      <td>Ses05F_impro07</td>\n",
       "      <td>5</td>\n",
       "      <td>F</td>\n",
       "      <td>impro07</td>\n",
       "      <td>75.2700</td>\n",
       "      <td>76.6600</td>\n",
       "      <td>awesome.</td>\n",
       "      <td>32</td>\n",
       "    </tr>\n",
       "    <tr>\n",
       "      <th>8941</th>\n",
       "      <td>14</td>\n",
       "      <td>sd</td>\n",
       "      <td>Ses05M_impro07</td>\n",
       "      <td>5</td>\n",
       "      <td>F</td>\n",
       "      <td>impro07</td>\n",
       "      <td>57.6600</td>\n",
       "      <td>63.5900</td>\n",
       "      <td>Not on campus, but um- I probably won't live t...</td>\n",
       "      <td>29</td>\n",
       "    </tr>\n",
       "    <tr>\n",
       "      <th>8942</th>\n",
       "      <td>15</td>\n",
       "      <td>sd</td>\n",
       "      <td>Ses05M_impro07</td>\n",
       "      <td>5</td>\n",
       "      <td>M</td>\n",
       "      <td>impro07</td>\n",
       "      <td>62.7600</td>\n",
       "      <td>64.3900</td>\n",
       "      <td>We are gonna party all the time.</td>\n",
       "      <td>30</td>\n",
       "    </tr>\n",
       "    <tr>\n",
       "      <th>8943</th>\n",
       "      <td>15</td>\n",
       "      <td>qw</td>\n",
       "      <td>Ses05M_impro07</td>\n",
       "      <td>5</td>\n",
       "      <td>F</td>\n",
       "      <td>impro07</td>\n",
       "      <td>63.9800</td>\n",
       "      <td>66.8800</td>\n",
       "      <td>Yeah.  Totally- Well where are you going to live?</td>\n",
       "      <td>31</td>\n",
       "    </tr>\n",
       "    <tr>\n",
       "      <th>8944</th>\n",
       "      <td>16</td>\n",
       "      <td>sv</td>\n",
       "      <td>Ses05M_impro07</td>\n",
       "      <td>5</td>\n",
       "      <td>M</td>\n",
       "      <td>impro07</td>\n",
       "      <td>64.4000</td>\n",
       "      <td>66.0900</td>\n",
       "      <td>We are gonna have a great time.</td>\n",
       "      <td>32</td>\n",
       "    </tr>\n",
       "  </tbody>\n",
       "</table>\n",
       "<p>240 rows × 10 columns</p>\n",
       "</div>"
      ],
      "text/plain": [
       "      utt_id EDA        filename  session_number speaker improv_script_id  \\\n",
       "88         9  qy  Ses01F_impro01               1       M          impro01   \n",
       "89        10  qw  Ses01F_impro01               1       F          impro01   \n",
       "905        9  qy  Ses01M_impro01               1       F          impro01   \n",
       "906       10  sd  Ses01M_impro01               1       M          impro01   \n",
       "2322       9  sv  Ses02F_impro01               2       M          impro01   \n",
       "...      ...  ..             ...             ...     ...              ...   \n",
       "8066      15  sv  Ses05F_impro07               5       F          impro07   \n",
       "8941      14  sd  Ses05M_impro07               5       F          impro07   \n",
       "8942      15  sd  Ses05M_impro07               5       M          impro07   \n",
       "8943      15  qw  Ses05M_impro07               5       F          impro07   \n",
       "8944      16  sv  Ses05M_impro07               5       M          impro07   \n",
       "\n",
       "        start      end                                          utterance  \\\n",
       "88    65.5100  73.0000  A birth certificate, a passport...a student ID...   \n",
       "89    66.4200  69.3400              Who the hell has a birth certificate?   \n",
       "905   52.3400  55.1200                   Well, do you have your passport?   \n",
       "906   54.4900  56.7100                       No, I don't have a passport.   \n",
       "2322  72.2875  79.2332  I think you're just gonna--you're gonna have t...   \n",
       "...       ...      ...                                                ...   \n",
       "8066  75.2700  76.6600                                           awesome.   \n",
       "8941  57.6600  63.5900  Not on campus, but um- I probably won't live t...   \n",
       "8942  62.7600  64.3900                   We are gonna party all the time.   \n",
       "8943  63.9800  66.8800  Yeah.  Totally- Well where are you going to live?   \n",
       "8944  64.4000  66.0900                    We are gonna have a great time.   \n",
       "\n",
       "      original_order  \n",
       "88                19  \n",
       "89                20  \n",
       "905               19  \n",
       "906               20  \n",
       "2322              19  \n",
       "...              ...  \n",
       "8066              32  \n",
       "8941              29  \n",
       "8942              30  \n",
       "8943              31  \n",
       "8944              32  \n",
       "\n",
       "[240 rows x 10 columns]"
      ]
     },
     "execution_count": 125,
     "metadata": {},
     "output_type": "execute_result"
    }
   ],
   "source": [
    "def impro_splits():    \n",
    "    # session 1\n",
    "    df_impro_session_1_impro_1_M = final_df[(final_df['filename'].str.contains('M_impro01')) & (final_df['session_number'] == 1)].sort_values(by=['filename', 'original_order'])\n",
    "    df_impro_session_1_impro_1_F = final_df[(final_df['filename'].str.contains('F_impro01')) & (final_df['session_number'] == 1)].sort_values(by=['filename', 'original_order'])\n",
    "    df_impro_session_1_impro_2_M = final_df[(final_df['filename'].str.contains('M_impro02')) & (final_df['session_number'] == 1)].sort_values(by=['filename', 'original_order'])\n",
    "    df_impro_session_1_impro_2_F = final_df[(final_df['filename'].str.contains('F_impro02')) & (final_df['session_number'] == 1)].sort_values(by=['filename', 'original_order'])\n",
    "    df_impro_session_1_impro_3_M = final_df[(final_df['filename'].str.contains('M_impro03')) & (final_df['session_number'] == 1)].sort_values(by=['filename', 'original_order'])\n",
    "    df_impro_session_1_impro_3_F = final_df[(final_df['filename'].str.contains('F_impro03')) & (final_df['session_number'] == 1)].sort_values(by=['filename', 'original_order'])\n",
    "    df_impro_session_1_impro_4_M = final_df[(final_df['filename'].str.contains('M_impro04')) & (final_df['session_number'] == 1)].sort_values(by=['filename', 'original_order'])\n",
    "    df_impro_session_1_impro_4_F = final_df[(final_df['filename'].str.contains('F_impro04')) & (final_df['session_number'] == 1)].sort_values(by=['filename', 'original_order'])\n",
    "    df_impro_session_1_impro_5_M = final_df[(final_df['filename'].str.contains('M_impro05')) & (final_df['session_number'] == 1)].sort_values(by=['filename', 'original_order'])\n",
    "    df_impro_session_1_impro_5_F = final_df[(final_df['filename'].str.contains('F_impro05')) & (final_df['session_number'] == 1)].sort_values(by=['filename', 'original_order'])\n",
    "    df_impro_session_1_impro_6_M = final_df[(final_df['filename'].str.contains('M_impro06')) & (final_df['session_number'] == 1)].sort_values(by=['filename', 'original_order'])\n",
    "    df_impro_session_1_impro_6_F = final_df[(final_df['filename'].str.contains('F_impro06')) & (final_df['session_number'] == 1)].sort_values(by=['filename', 'original_order'])\n",
    "    df_impro_session_1_impro_7_M = final_df[(final_df['filename'].str.contains('M_impro07')) & (final_df['session_number'] == 1)].sort_values(by=['filename', 'original_order'])\n",
    "    df_impro_session_1_impro_7_F = final_df[(final_df['filename'].str.contains('F_impro07')) & (final_df['session_number'] == 1)].sort_values(by=['filename', 'original_order'])\n",
    "    df_impro_session_1_impro_8_M = final_df[(final_df['filename'].str.contains('M_impro08')) & (final_df['session_number'] == 1)].sort_values(by=['filename', 'original_order'])\n",
    "    df_impro_session_1_impro_8_F = final_df[(final_df['filename'].str.contains('F_impro08')) & (final_df['session_number'] == 1)].sort_values(by=['filename', 'original_order'])\n",
    "\n",
    "    # session 2\n",
    "    df_impro_session_2_impro_1_M = final_df[(final_df['filename'].str.contains('M_impro01')) & (final_df['session_number'] == 2)].sort_values(by=['filename', 'original_order'])\n",
    "    df_impro_session_2_impro_1_F = final_df[(final_df['filename'].str.contains('F_impro01')) & (final_df['session_number'] == 2)].sort_values(by=['filename', 'original_order'])\n",
    "    df_impro_session_2_impro_2_M = final_df[(final_df['filename'].str.contains('M_impro02')) & (final_df['session_number'] == 2)].sort_values(by=['filename', 'original_order'])\n",
    "    df_impro_session_2_impro_2_F = final_df[(final_df['filename'].str.contains('F_impro02')) & (final_df['session_number'] == 2)].sort_values(by=['filename', 'original_order'])\n",
    "    df_impro_session_2_impro_3_M = final_df[(final_df['filename'].str.contains('M_impro03')) & (final_df['session_number'] == 2)].sort_values(by=['filename', 'original_order'])\n",
    "    df_impro_session_2_impro_3_F = final_df[(final_df['filename'].str.contains('F_impro03')) & (final_df['session_number'] == 2)].sort_values(by=['filename', 'original_order'])\n",
    "    df_impro_session_2_impro_4_M = final_df[(final_df['filename'].str.contains('M_impro04')) & (final_df['session_number'] == 2)].sort_values(by=['filename', 'original_order'])\n",
    "    df_impro_session_2_impro_4_F = final_df[(final_df['filename'].str.contains('F_impro04')) & (final_df['session_number'] == 2)].sort_values(by=['filename', 'original_order'])\n",
    "    df_impro_session_2_impro_5_M = final_df[(final_df['filename'].str.contains('M_impro05')) & (final_df['session_number'] == 2)].sort_values(by=['filename', 'original_order'])\n",
    "    df_impro_session_2_impro_5_F = final_df[(final_df['filename'].str.contains('F_impro05')) & (final_df['session_number'] == 2)].sort_values(by=['filename', 'original_order'])\n",
    "    df_impro_session_2_impro_6_M = final_df[(final_df['filename'].str.contains('M_impro06')) & (final_df['session_number'] == 2)].sort_values(by=['filename', 'original_order'])\n",
    "    df_impro_session_2_impro_6_F = final_df[(final_df['filename'].str.contains('F_impro06')) & (final_df['session_number'] == 2)].sort_values(by=['filename', 'original_order'])\n",
    "    df_impro_session_2_impro_7_M = final_df[(final_df['filename'].str.contains('M_impro07')) & (final_df['session_number'] == 2)].sort_values(by=['filename', 'original_order'])\n",
    "    df_impro_session_2_impro_7_F = final_df[(final_df['filename'].str.contains('F_impro07')) & (final_df['session_number'] == 2)].sort_values(by=['filename', 'original_order'])\n",
    "    df_impro_session_2_impro_8_M = final_df[(final_df['filename'].str.contains('M_impro08')) & (final_df['session_number'] == 2)].sort_values(by=['filename', 'original_order'])\n",
    "    df_impro_session_2_impro_8_F = final_df[(final_df['filename'].str.contains('F_impro08')) & (final_df['session_number'] == 2)].sort_values(by=['filename', 'original_order'])\n",
    "\n",
    "    # session 3\n",
    "    df_impro_session_3_impro_1_M = final_df[(final_df['filename'].str.contains('M_impro01')) & (final_df['session_number'] == 3)].sort_values(by=['filename', 'original_order'])\n",
    "    df_impro_session_3_impro_1_F = final_df[(final_df['filename'].str.contains('F_impro01')) & (final_df['session_number'] == 3)].sort_values(by=['filename', 'original_order'])\n",
    "    df_impro_session_3_impro_2_M = final_df[(final_df['filename'].str.contains('M_impro02')) & (final_df['session_number'] == 3)].sort_values(by=['filename', 'original_order'])\n",
    "    df_impro_session_3_impro_2_F = final_df[(final_df['filename'].str.contains('F_impro02')) & (final_df['session_number'] == 3)].sort_values(by=['filename', 'original_order'])\n",
    "    df_impro_session_3_impro_3_M = final_df[(final_df['filename'].str.contains('M_impro03')) & (final_df['session_number'] == 3)].sort_values(by=['filename', 'original_order'])\n",
    "    df_impro_session_3_impro_3_F = final_df[(final_df['filename'].str.contains('F_impro03')) & (final_df['session_number'] == 3)].sort_values(by=['filename', 'original_order'])\n",
    "    df_impro_session_3_impro_4_M = final_df[(final_df['filename'].str.contains('M_impro04')) & (final_df['session_number'] == 3)].sort_values(by=['filename', 'original_order'])\n",
    "    df_impro_session_3_impro_4_F = final_df[(final_df['filename'].str.contains('F_impro04')) & (final_df['session_number'] == 3)].sort_values(by=['filename', 'original_order'])\n",
    "    df_impro_session_3_impro_5_M = final_df[(final_df['filename'].str.contains('M_impro05')) & (final_df['session_number'] == 3)].sort_values(by=['filename', 'original_order'])\n",
    "    df_impro_session_3_impro_5_F = final_df[(final_df['filename'].str.contains('F_impro05')) & (final_df['session_number'] == 3)].sort_values(by=['filename', 'original_order'])\n",
    "    df_impro_session_3_impro_6_M = final_df[(final_df['filename'].str.contains('M_impro06')) & (final_df['session_number'] == 3)].sort_values(by=['filename', 'original_order'])\n",
    "    df_impro_session_3_impro_6_F = final_df[(final_df['filename'].str.contains('F_impro06')) & (final_df['session_number'] == 3)].sort_values(by=['filename', 'original_order'])\n",
    "    df_impro_session_3_impro_7_M = final_df[(final_df['filename'].str.contains('M_impro07')) & (final_df['session_number'] == 3)].sort_values(by=['filename', 'original_order'])\n",
    "    df_impro_session_3_impro_7_F = final_df[(final_df['filename'].str.contains('F_impro07')) & (final_df['session_number'] == 3)].sort_values(by=['filename', 'original_order'])\n",
    "    df_impro_session_3_impro_8_M = final_df[(final_df['filename'].str.contains('M_impro08')) & (final_df['session_number'] == 3)].sort_values(by=['filename', 'original_order'])\n",
    "    df_impro_session_3_impro_8_F = final_df[(final_df['filename'].str.contains('F_impro08')) & (final_df['session_number'] == 3)].sort_values(by=['filename', 'original_order'])\n",
    "\n",
    "    # session 4\n",
    "    df_impro_session_4_impro_1_M = final_df[(final_df['filename'].str.contains('M_impro01')) & (final_df['session_number'] == 4)].sort_values(by=['filename', 'original_order'])\n",
    "    df_impro_session_4_impro_1_F = final_df[(final_df['filename'].str.contains('F_impro01')) & (final_df['session_number'] == 4)].sort_values(by=['filename', 'original_order'])\n",
    "    df_impro_session_4_impro_2_M = final_df[(final_df['filename'].str.contains('M_impro02')) & (final_df['session_number'] == 4)].sort_values(by=['filename', 'original_order'])\n",
    "    df_impro_session_4_impro_2_F = final_df[(final_df['filename'].str.contains('F_impro02')) & (final_df['session_number'] == 4)].sort_values(by=['filename', 'original_order'])\n",
    "    df_impro_session_4_impro_3_M = final_df[(final_df['filename'].str.contains('M_impro03')) & (final_df['session_number'] == 4)].sort_values(by=['filename', 'original_order'])\n",
    "    df_impro_session_4_impro_3_F = final_df[(final_df['filename'].str.contains('F_impro03')) & (final_df['session_number'] == 4)].sort_values(by=['filename', 'original_order'])\n",
    "    df_impro_session_4_impro_4_M = final_df[(final_df['filename'].str.contains('M_impro04')) & (final_df['session_number'] == 4)].sort_values(by=['filename', 'original_order'])\n",
    "    df_impro_session_4_impro_4_F = final_df[(final_df['filename'].str.contains('F_impro04')) & (final_df['session_number'] == 4)].sort_values(by=['filename', 'original_order'])\n",
    "    df_impro_session_4_impro_5_M = final_df[(final_df['filename'].str.contains('M_impro05')) & (final_df['session_number'] == 4)].sort_values(by=['filename', 'original_order'])\n",
    "    df_impro_session_4_impro_5_F = final_df[(final_df['filename'].str.contains('F_impro05')) & (final_df['session_number'] == 4)].sort_values(by=['filename', 'original_order'])\n",
    "    df_impro_session_4_impro_6_M = final_df[(final_df['filename'].str.contains('M_impro06')) & (final_df['session_number'] == 4)].sort_values(by=['filename', 'original_order'])\n",
    "    df_impro_session_4_impro_6_F = final_df[(final_df['filename'].str.contains('F_impro06')) & (final_df['session_number'] == 4)].sort_values(by=['filename', 'original_order'])\n",
    "    df_impro_session_4_impro_7_M = final_df[(final_df['filename'].str.contains('M_impro07')) & (final_df['session_number'] == 4)].sort_values(by=['filename', 'original_order'])\n",
    "    df_impro_session_4_impro_7_F = final_df[(final_df['filename'].str.contains('F_impro07')) & (final_df['session_number'] == 4)].sort_values(by=['filename', 'original_order'])\n",
    "    df_impro_session_4_impro_8_M = final_df[(final_df['filename'].str.contains('M_impro08')) & (final_df['session_number'] == 4)].sort_values(by=['filename', 'original_order'])\n",
    "    df_impro_session_4_impro_8_F = final_df[(final_df['filename'].str.contains('F_impro08')) & (final_df['session_number'] == 4)].sort_values(by=['filename', 'original_order'])\n",
    "\n",
    "    # session 5\n",
    "    df_impro_session_5_impro_1_M = final_df[(final_df['filename'].str.contains('M_impro01')) & (final_df['session_number'] == 5)].sort_values(by=['filename', 'original_order'])\n",
    "    df_impro_session_5_impro_1_F = final_df[(final_df['filename'].str.contains('F_impro01')) & (final_df['session_number'] == 5)].sort_values(by=['filename', 'original_order'])\n",
    "    df_impro_session_5_impro_2_M = final_df[(final_df['filename'].str.contains('M_impro02')) & (final_df['session_number'] == 5)].sort_values(by=['filename', 'original_order'])\n",
    "    df_impro_session_5_impro_2_F = final_df[(final_df['filename'].str.contains('F_impro02')) & (final_df['session_number'] == 5)].sort_values(by=['filename', 'original_order'])\n",
    "    df_impro_session_5_impro_3_M = final_df[(final_df['filename'].str.contains('M_impro03')) & (final_df['session_number'] == 5)].sort_values(by=['filename', 'original_order'])\n",
    "    df_impro_session_5_impro_3_F = final_df[(final_df['filename'].str.contains('F_impro03')) & (final_df['session_number'] == 5)].sort_values(by=['filename', 'original_order'])\n",
    "    df_impro_session_5_impro_4_M = final_df[(final_df['filename'].str.contains('M_impro04')) & (final_df['session_number'] == 5)].sort_values(by=['filename', 'original_order'])\n",
    "    df_impro_session_5_impro_4_F = final_df[(final_df['filename'].str.contains('F_impro04')) & (final_df['session_number'] == 5)].sort_values(by=['filename', 'original_order'])\n",
    "    df_impro_session_5_impro_5_M = final_df[(final_df['filename'].str.contains('M_impro05')) & (final_df['session_number'] == 5)].sort_values(by=['filename', 'original_order'])\n",
    "    df_impro_session_5_impro_5_F = final_df[(final_df['filename'].str.contains('F_impro05')) & (final_df['session_number'] == 5)].sort_values(by=['filename', 'original_order'])\n",
    "    df_impro_session_5_impro_6_M = final_df[(final_df['filename'].str.contains('M_impro06')) & (final_df['session_number'] == 5)].sort_values(by=['filename', 'original_order'])\n",
    "    df_impro_session_5_impro_6_F = final_df[(final_df['filename'].str.contains('F_impro06')) & (final_df['session_number'] == 5)].sort_values(by=['filename', 'original_order'])\n",
    "    df_impro_session_5_impro_7_M = final_df[(final_df['filename'].str.contains('M_impro07')) & (final_df['session_number'] == 5)].sort_values(by=['filename', 'original_order'])\n",
    "    df_impro_session_5_impro_7_F = final_df[(final_df['filename'].str.contains('F_impro07')) & (final_df['session_number'] == 5)].sort_values(by=['filename', 'original_order'])\n",
    "    df_impro_session_5_impro_8_M = final_df[(final_df['filename'].str.contains('M_impro08')) & (final_df['session_number'] == 5)].sort_values(by=['filename', 'original_order'])\n",
    "    df_impro_session_5_impro_8_F = final_df[(final_df['filename'].str.contains('F_impro08')) & (final_df['session_number'] == 5)].sort_values(by=['filename', 'original_order'])\n",
    "\n",
    "    # need to this for each impro across sections because although they are the same impro, the lines are not memorized perfectly and so there are some length differences\n",
    "    min_impro_1 = min([len(df_impro_session_1_impro_1_F), len(df_impro_session_1_impro_1_M),\\\n",
    "                        len(df_impro_session_2_impro_1_F), len(df_impro_session_2_impro_1_M),\\\n",
    "                        len(df_impro_session_3_impro_1_F), len(df_impro_session_3_impro_1_M),\\\n",
    "                        len(df_impro_session_4_impro_1_F), len(df_impro_session_4_impro_1_M),\\\n",
    "                        len(df_impro_session_5_impro_1_F), len(df_impro_session_5_impro_1_M)])\n",
    "\n",
    "    min_impro_2 = min([len(df_impro_session_1_impro_2_F), len(df_impro_session_1_impro_2_M),\\\n",
    "                        len(df_impro_session_2_impro_2_F), len(df_impro_session_2_impro_2_M),\\\n",
    "                        len(df_impro_session_3_impro_2_F), len(df_impro_session_3_impro_2_M),\\\n",
    "                        len(df_impro_session_4_impro_2_F), len(df_impro_session_4_impro_2_M),\\\n",
    "                        len(df_impro_session_5_impro_2_F), len(df_impro_session_5_impro_2_M)])\n",
    "\n",
    "    min_impro_3 = min([len(df_impro_session_1_impro_3_F), len(df_impro_session_1_impro_3_M),\\\n",
    "                        len(df_impro_session_2_impro_3_F), len(df_impro_session_2_impro_3_M),\\\n",
    "                        len(df_impro_session_3_impro_3_F), len(df_impro_session_3_impro_3_M),\\\n",
    "                        len(df_impro_session_4_impro_3_F), len(df_impro_session_4_impro_3_M),\\\n",
    "                        len(df_impro_session_5_impro_3_F), len(df_impro_session_5_impro_3_M)])\n",
    "\n",
    "    min_impro_4 = min([len(df_impro_session_1_impro_4_F), len(df_impro_session_1_impro_4_M),\\\n",
    "                        len(df_impro_session_2_impro_4_F), len(df_impro_session_2_impro_4_M),\\\n",
    "                        len(df_impro_session_3_impro_4_F), len(df_impro_session_3_impro_4_M),\\\n",
    "                        len(df_impro_session_4_impro_4_F), len(df_impro_session_4_impro_4_M),\\\n",
    "                        len(df_impro_session_5_impro_4_F), len(df_impro_session_5_impro_4_M)])\n",
    "\n",
    "    min_impro_5 = min([len(df_impro_session_1_impro_5_F), len(df_impro_session_1_impro_5_M),\\\n",
    "                            len(df_impro_session_2_impro_5_F), len(df_impro_session_2_impro_5_M),\\\n",
    "                            len(df_impro_session_3_impro_5_F), len(df_impro_session_3_impro_5_M),\\\n",
    "                            len(df_impro_session_4_impro_5_F), len(df_impro_session_4_impro_5_M),\\\n",
    "                            len(df_impro_session_5_impro_5_F), len(df_impro_session_5_impro_5_M)])\n",
    "\n",
    "    min_impro_6 = min([len(df_impro_session_1_impro_6_F), len(df_impro_session_1_impro_6_M),\\\n",
    "                            len(df_impro_session_2_impro_6_F), len(df_impro_session_2_impro_6_M),\\\n",
    "                            len(df_impro_session_3_impro_6_F), len(df_impro_session_3_impro_6_M),\\\n",
    "                            len(df_impro_session_4_impro_6_F), len(df_impro_session_4_impro_6_M),\\\n",
    "                            len(df_impro_session_5_impro_6_F), len(df_impro_session_5_impro_6_M)])\n",
    "\n",
    "    min_impro_7 = min([len(df_impro_session_1_impro_7_F), len(df_impro_session_1_impro_7_M),\\\n",
    "                            len(df_impro_session_2_impro_7_F), len(df_impro_session_2_impro_7_M),\\\n",
    "                            len(df_impro_session_3_impro_7_F), len(df_impro_session_3_impro_7_M),\\\n",
    "                            len(df_impro_session_4_impro_7_F), len(df_impro_session_4_impro_7_M),\\\n",
    "                            len(df_impro_session_5_impro_7_F), len(df_impro_session_5_impro_7_M)])\n",
    "\n",
    "    min_impro_8 = min([len(df_impro_session_1_impro_8_F), len(df_impro_session_1_impro_8_M),\\\n",
    "                            len(df_impro_session_2_impro_8_F), len(df_impro_session_2_impro_8_M),\\\n",
    "                            len(df_impro_session_3_impro_8_F), len(df_impro_session_3_impro_8_M),\\\n",
    "                            len(df_impro_session_4_impro_8_F), len(df_impro_session_4_impro_8_M),\\\n",
    "                            len(df_impro_session_5_impro_8_F), len(df_impro_session_5_impro_8_M)])\n",
    "\n",
    "    train_impro_1 = int(min_impro_1*0.8)\n",
    "    val_impro_1 = (min_impro_1-train_impro_1)//2\n",
    "\n",
    "    train_impro_2 = int(min_impro_2*0.8)\n",
    "    val_impro_2 = (min_impro_2-train_impro_2)//2\n",
    "\n",
    "    train_impro_3 = int(min_impro_3*0.8)\n",
    "    val_impro_3 = (min_impro_3-train_impro_3)//2\n",
    "\n",
    "    train_impro_4 = int(min_impro_4*0.8)\n",
    "    val_impro_4 = (min_impro_4-train_impro_4)//2\n",
    "\n",
    "    train_impro_5 = int(min_impro_5*0.8)\n",
    "    val_impro_5 = (min_impro_5-train_impro_5)//2\n",
    "\n",
    "    train_impro_6 = int(min_impro_6*0.8)\n",
    "    val_impro_6 = (min_impro_6-train_impro_6)//2\n",
    "\n",
    "    train_impro_7 = int(min_impro_7*0.8)\n",
    "    val_impro_7 = (min_impro_7-train_impro_7)//2\n",
    "\n",
    "    train_impro_8 = int(min_impro_8*0.8)\n",
    "    val_impro_8 = (min_impro_8-train_impro_8)//2\n",
    "\n",
    "\n",
    "    #df_impro_session_1_impro_1_F.sample(frac=1) # going to ignore this for now and not shuffle within each impro because that means merging sessions... to confusing and not perfect matching\n",
    "    df_impro_train = pd.concat([df_impro_session_1_impro_1_F[:train_impro_1],\n",
    "                                df_impro_session_1_impro_1_M[:train_impro_1],\n",
    "                                df_impro_session_2_impro_1_F[:train_impro_1], \n",
    "                                df_impro_session_2_impro_1_M[:train_impro_1], \n",
    "                                df_impro_session_3_impro_1_F[:train_impro_1],\n",
    "                                df_impro_session_3_impro_1_M[:train_impro_1],\n",
    "                                df_impro_session_4_impro_1_F[:train_impro_1],\n",
    "                                df_impro_session_4_impro_1_M[:train_impro_1],\n",
    "                                df_impro_session_5_impro_1_F[:train_impro_1],\n",
    "                                df_impro_session_5_impro_1_M[:train_impro_1],\n",
    "                                df_impro_session_1_impro_2_F[:train_impro_2],\n",
    "                                df_impro_session_1_impro_2_M[:train_impro_2],\n",
    "                                df_impro_session_2_impro_2_F[:train_impro_2], \n",
    "                                df_impro_session_2_impro_2_M[:train_impro_2], \n",
    "                                df_impro_session_3_impro_2_F[:train_impro_2],\n",
    "                                df_impro_session_3_impro_2_M[:train_impro_2],\n",
    "                                df_impro_session_4_impro_2_F[:train_impro_2],\n",
    "                                df_impro_session_4_impro_2_M[:train_impro_2],\n",
    "                                df_impro_session_5_impro_2_F[:train_impro_2],\n",
    "                                df_impro_session_5_impro_2_M[:train_impro_2],\n",
    "                                df_impro_session_1_impro_3_F[:train_impro_3],\n",
    "                                df_impro_session_1_impro_3_M[:train_impro_3],\n",
    "                                df_impro_session_2_impro_3_F[:train_impro_3], \n",
    "                                df_impro_session_2_impro_3_M[:train_impro_3], \n",
    "                                df_impro_session_3_impro_3_F[:train_impro_3],\n",
    "                                df_impro_session_3_impro_3_M[:train_impro_3],\n",
    "                                df_impro_session_4_impro_3_F[:train_impro_3],\n",
    "                                df_impro_session_4_impro_3_M[:train_impro_3],\n",
    "                                df_impro_session_5_impro_3_F[:train_impro_3],\n",
    "                                df_impro_session_5_impro_3_M[:train_impro_3],\n",
    "                df_impro_session_1_impro_4_F[:train_impro_4],\n",
    "                                df_impro_session_1_impro_4_M[:train_impro_4],\n",
    "                                df_impro_session_2_impro_4_F[:train_impro_4], \n",
    "                                df_impro_session_2_impro_4_M[:train_impro_4], \n",
    "                                df_impro_session_3_impro_4_F[:train_impro_4],\n",
    "                                df_impro_session_3_impro_4_M[:train_impro_4],\n",
    "                                df_impro_session_4_impro_4_F[:train_impro_4],\n",
    "                                df_impro_session_4_impro_4_M[:train_impro_4],\n",
    "                                df_impro_session_5_impro_4_F[:train_impro_4],\n",
    "                                df_impro_session_5_impro_4_M[:train_impro_4],\n",
    "                                df_impro_session_1_impro_5_F[:train_impro_5],\n",
    "                                df_impro_session_1_impro_5_M[:train_impro_5],\n",
    "                                df_impro_session_2_impro_5_F[:train_impro_5], \n",
    "                                df_impro_session_2_impro_5_M[:train_impro_5], \n",
    "                                df_impro_session_3_impro_5_F[:train_impro_5],\n",
    "                                df_impro_session_3_impro_5_M[:train_impro_5],\n",
    "                                df_impro_session_4_impro_5_F[:train_impro_5],\n",
    "                                df_impro_session_4_impro_5_M[:train_impro_5],\n",
    "                                df_impro_session_5_impro_5_F[:train_impro_5],\n",
    "                                df_impro_session_5_impro_5_M[:train_impro_5],\n",
    "                                df_impro_session_1_impro_6_F[:train_impro_6],\n",
    "                                df_impro_session_1_impro_6_M[:train_impro_6],\n",
    "                                df_impro_session_2_impro_6_F[:train_impro_6], \n",
    "                                df_impro_session_2_impro_6_M[:train_impro_6], \n",
    "                                df_impro_session_3_impro_6_F[:train_impro_6],\n",
    "                                df_impro_session_3_impro_6_M[:train_impro_6],\n",
    "                                df_impro_session_4_impro_6_F[:train_impro_6],\n",
    "                                df_impro_session_4_impro_6_M[:train_impro_6],\n",
    "                                df_impro_session_5_impro_6_F[:train_impro_6],\n",
    "                                df_impro_session_5_impro_6_M[:train_impro_6],\n",
    "                                df_impro_session_1_impro_7_F[:train_impro_7],\n",
    "                                df_impro_session_1_impro_7_M[:train_impro_7],\n",
    "                                df_impro_session_2_impro_7_F[:train_impro_7], \n",
    "                                df_impro_session_2_impro_7_M[:train_impro_7], \n",
    "                                df_impro_session_3_impro_7_F[:train_impro_7],\n",
    "                                df_impro_session_3_impro_7_M[:train_impro_7],\n",
    "                                df_impro_session_4_impro_7_F[:train_impro_7],\n",
    "                                df_impro_session_4_impro_7_M[:train_impro_7],\n",
    "                                df_impro_session_5_impro_7_F[:train_impro_7],\n",
    "                                df_impro_session_5_impro_7_M[:train_impro_7],\n",
    "                                df_impro_session_1_impro_8_F[:train_impro_8],\n",
    "                                df_impro_session_1_impro_8_M[:train_impro_8],\n",
    "                                df_impro_session_2_impro_8_F[:train_impro_8], \n",
    "                                df_impro_session_2_impro_8_M[:train_impro_8], \n",
    "                                df_impro_session_3_impro_8_F[:train_impro_8],\n",
    "                                df_impro_session_3_impro_8_M[:train_impro_8],\n",
    "                                df_impro_session_4_impro_8_F[:train_impro_8],\n",
    "                                df_impro_session_4_impro_8_M[:train_impro_8],\n",
    "                                df_impro_session_5_impro_8_F[:train_impro_8],\n",
    "                                df_impro_session_5_impro_8_M[:train_impro_8]])  \n",
    "    df_impro_val = pd.concat([df_impro_session_1_impro_1_F[train_impro_1: train_impro_1+val_impro_1],\n",
    "                                df_impro_session_1_impro_1_M[train_impro_1: train_impro_1+val_impro_1],\n",
    "                                df_impro_session_2_impro_1_F[train_impro_1: train_impro_1+val_impro_1], \n",
    "                                df_impro_session_2_impro_1_M[train_impro_1: train_impro_1+val_impro_1], \n",
    "                                df_impro_session_3_impro_1_F[train_impro_1: train_impro_1+val_impro_1],\n",
    "                                df_impro_session_3_impro_1_M[train_impro_1: train_impro_1+val_impro_1],\n",
    "                                df_impro_session_4_impro_1_F[train_impro_1: train_impro_1+val_impro_1],\n",
    "                                df_impro_session_4_impro_1_M[train_impro_1: train_impro_1+val_impro_1],\n",
    "                                df_impro_session_5_impro_1_F[train_impro_1: train_impro_1+val_impro_1],\n",
    "                                df_impro_session_5_impro_1_M[train_impro_1: train_impro_1+val_impro_1],\n",
    "                                df_impro_session_1_impro_2_F[train_impro_2: train_impro_2+val_impro_2],\n",
    "                                df_impro_session_1_impro_2_M[train_impro_2: train_impro_2+val_impro_2],\n",
    "                                df_impro_session_2_impro_2_F[train_impro_2: train_impro_2+val_impro_2], \n",
    "                                df_impro_session_2_impro_2_M[train_impro_2: train_impro_2+val_impro_2], \n",
    "                                df_impro_session_3_impro_2_F[train_impro_2: train_impro_2+val_impro_2],\n",
    "                                df_impro_session_3_impro_2_M[train_impro_2: train_impro_2+val_impro_2],\n",
    "                                df_impro_session_4_impro_2_F[train_impro_2: train_impro_2+val_impro_2],\n",
    "                                df_impro_session_4_impro_2_M[train_impro_2: train_impro_2+val_impro_2],\n",
    "                                df_impro_session_5_impro_2_F[train_impro_2: train_impro_2+val_impro_2],\n",
    "                                df_impro_session_5_impro_2_M[train_impro_2: train_impro_2+val_impro_2],\n",
    "                                df_impro_session_1_impro_3_F[train_impro_3: train_impro_3+val_impro_3],\n",
    "                                df_impro_session_1_impro_3_M[train_impro_3: train_impro_3+val_impro_3],\n",
    "                                df_impro_session_2_impro_3_F[train_impro_3: train_impro_3+val_impro_3], \n",
    "                                df_impro_session_2_impro_3_M[train_impro_3: train_impro_3+val_impro_3], \n",
    "                                df_impro_session_3_impro_3_F[train_impro_3: train_impro_3+val_impro_3],\n",
    "                                df_impro_session_3_impro_3_M[train_impro_3: train_impro_3+val_impro_3],\n",
    "                                df_impro_session_4_impro_3_F[train_impro_3: train_impro_3+val_impro_3],\n",
    "                                df_impro_session_4_impro_3_M[train_impro_3: train_impro_3+val_impro_3],\n",
    "                                df_impro_session_5_impro_3_F[train_impro_3: train_impro_3+val_impro_3],\n",
    "                                df_impro_session_5_impro_3_M[train_impro_3: train_impro_3+val_impro_3],\n",
    "                                df_impro_session_1_impro_4_F[train_impro_4: train_impro_4+val_impro_4],\n",
    "                                df_impro_session_1_impro_4_M[train_impro_4: train_impro_4+val_impro_4],\n",
    "                                df_impro_session_2_impro_4_F[train_impro_4: train_impro_4+val_impro_4], \n",
    "                                df_impro_session_2_impro_4_M[train_impro_4: train_impro_4+val_impro_4], \n",
    "                                df_impro_session_3_impro_4_F[train_impro_4: train_impro_4+val_impro_4],\n",
    "                                df_impro_session_3_impro_4_M[train_impro_4: train_impro_4+val_impro_4],\n",
    "                                df_impro_session_4_impro_4_F[train_impro_4: train_impro_4+val_impro_4],\n",
    "                                df_impro_session_4_impro_4_M[train_impro_4: train_impro_4+val_impro_4],\n",
    "                                df_impro_session_5_impro_4_F[train_impro_4: train_impro_4+val_impro_4],\n",
    "                                df_impro_session_5_impro_4_M[train_impro_4: train_impro_4+val_impro_4],\n",
    "                                df_impro_session_1_impro_5_F[train_impro_5: train_impro_5+val_impro_5],\n",
    "                                df_impro_session_1_impro_5_M[train_impro_5: train_impro_5+val_impro_5],\n",
    "                                df_impro_session_2_impro_5_F[train_impro_5: train_impro_5+val_impro_5], \n",
    "                                df_impro_session_2_impro_5_M[train_impro_5: train_impro_5+val_impro_5], \n",
    "                                df_impro_session_3_impro_5_F[train_impro_5: train_impro_5+val_impro_5],\n",
    "                                df_impro_session_3_impro_5_M[train_impro_5: train_impro_5+val_impro_5],\n",
    "                                df_impro_session_4_impro_5_F[train_impro_5: train_impro_5+val_impro_5],\n",
    "                                df_impro_session_4_impro_5_M[train_impro_5: train_impro_5+val_impro_5],\n",
    "                                df_impro_session_5_impro_5_F[train_impro_5: train_impro_5+val_impro_5],\n",
    "                                df_impro_session_5_impro_5_M[train_impro_5: train_impro_5+val_impro_5],\n",
    "                                df_impro_session_1_impro_6_F[train_impro_6: train_impro_6+val_impro_6],\n",
    "                                df_impro_session_1_impro_6_M[train_impro_6: train_impro_6+val_impro_6],\n",
    "                                df_impro_session_2_impro_6_F[train_impro_6: train_impro_6+val_impro_6], \n",
    "                                df_impro_session_2_impro_6_M[train_impro_6: train_impro_6+val_impro_6], \n",
    "                                df_impro_session_3_impro_6_F[train_impro_6: train_impro_6+val_impro_6],\n",
    "                                df_impro_session_3_impro_6_M[train_impro_6: train_impro_6+val_impro_6],\n",
    "                                df_impro_session_4_impro_6_F[train_impro_6: train_impro_6+val_impro_6],\n",
    "                                df_impro_session_4_impro_6_M[train_impro_6: train_impro_6+val_impro_6],\n",
    "                                df_impro_session_5_impro_6_F[train_impro_6: train_impro_6+val_impro_6],\n",
    "                                df_impro_session_5_impro_6_M[train_impro_6: train_impro_6+val_impro_6],\n",
    "                                df_impro_session_1_impro_7_F[train_impro_7: train_impro_7+val_impro_7],\n",
    "                                df_impro_session_1_impro_7_M[train_impro_7: train_impro_7+val_impro_7],\n",
    "                                df_impro_session_2_impro_7_F[train_impro_7: train_impro_7+val_impro_7], \n",
    "                                df_impro_session_2_impro_7_M[train_impro_7: train_impro_7+val_impro_7], \n",
    "                                df_impro_session_3_impro_7_F[train_impro_7: train_impro_7+val_impro_7],\n",
    "                                df_impro_session_3_impro_7_M[train_impro_7: train_impro_7+val_impro_7],\n",
    "                                df_impro_session_4_impro_7_F[train_impro_7: train_impro_7+val_impro_7],\n",
    "                                df_impro_session_4_impro_7_M[train_impro_7: train_impro_7+val_impro_7],\n",
    "                                df_impro_session_5_impro_7_F[train_impro_7: train_impro_7+val_impro_7],\n",
    "                                df_impro_session_5_impro_7_M[train_impro_7: train_impro_7+val_impro_7],\n",
    "                                df_impro_session_1_impro_8_F[train_impro_8: train_impro_8+val_impro_8],\n",
    "                                df_impro_session_1_impro_8_M[train_impro_8: train_impro_8+val_impro_8],\n",
    "                                df_impro_session_2_impro_8_F[train_impro_8: train_impro_8+val_impro_8], \n",
    "                                df_impro_session_2_impro_8_M[train_impro_8: train_impro_8+val_impro_8], \n",
    "                                df_impro_session_3_impro_8_F[train_impro_8: train_impro_8+val_impro_8],\n",
    "                                df_impro_session_3_impro_8_M[train_impro_8: train_impro_8+val_impro_8],\n",
    "                                df_impro_session_4_impro_8_F[train_impro_8: train_impro_8+val_impro_8],\n",
    "                                df_impro_session_4_impro_8_M[train_impro_8: train_impro_8+val_impro_8],\n",
    "                                df_impro_session_5_impro_8_F[train_impro_8: train_impro_8+val_impro_8],\n",
    "                                df_impro_session_5_impro_8_M[train_impro_8: train_impro_8+val_impro_8]]) \n",
    "    df_impro_test = pd.concat([df_impro_session_1_impro_1_F[train_impro_1+val_impro_1:],\n",
    "                                df_impro_session_1_impro_1_M[train_impro_1+val_impro_1:],\n",
    "                                df_impro_session_2_impro_1_F[train_impro_1+val_impro_1:], \n",
    "                                df_impro_session_2_impro_1_M[train_impro_1+val_impro_1:], \n",
    "                                df_impro_session_3_impro_1_F[train_impro_1+val_impro_1:],\n",
    "                                df_impro_session_3_impro_1_M[train_impro_1+val_impro_1:],\n",
    "                                df_impro_session_4_impro_1_F[train_impro_1+val_impro_1:],\n",
    "                                df_impro_session_5_impro_1_F[train_impro_1+val_impro_1:],\n",
    "                                df_impro_session_5_impro_1_M[train_impro_1+val_impro_1:],\n",
    "                                df_impro_session_1_impro_2_F[train_impro_2+val_impro_2:],\n",
    "                                df_impro_session_1_impro_2_M[train_impro_2+val_impro_2:],\n",
    "                                df_impro_session_2_impro_2_F[train_impro_2+val_impro_2:], \n",
    "                                df_impro_session_2_impro_2_M[train_impro_2+val_impro_2:], \n",
    "                                df_impro_session_3_impro_2_F[train_impro_2+val_impro_2:],\n",
    "                                df_impro_session_3_impro_2_M[train_impro_2+val_impro_2:],\n",
    "                                df_impro_session_4_impro_2_F[train_impro_2+val_impro_2:],\n",
    "                                df_impro_session_4_impro_2_M[train_impro_2+val_impro_2:],\n",
    "                                df_impro_session_5_impro_2_F[train_impro_2+val_impro_2:],\n",
    "                                df_impro_session_5_impro_2_M[train_impro_2+val_impro_2:],\n",
    "                                df_impro_session_1_impro_3_F[train_impro_3+val_impro_3:],\n",
    "                                df_impro_session_1_impro_3_M[train_impro_3+val_impro_3:],\n",
    "                                df_impro_session_2_impro_3_F[train_impro_3+val_impro_3:], \n",
    "                                df_impro_session_2_impro_3_M[train_impro_3+val_impro_3:], \n",
    "                                df_impro_session_3_impro_3_F[train_impro_3+val_impro_3:],\n",
    "                                df_impro_session_3_impro_3_M[train_impro_3+val_impro_3:],\n",
    "                                df_impro_session_4_impro_3_F[train_impro_3+val_impro_3:],\n",
    "                                df_impro_session_4_impro_3_M[train_impro_3+val_impro_3:],\n",
    "                                df_impro_session_5_impro_3_F[train_impro_3+val_impro_3:],\n",
    "                                df_impro_session_5_impro_3_M[train_impro_3+val_impro_3:],\n",
    "                                df_impro_session_1_impro_4_F[train_impro_4+val_impro_4:],\n",
    "                                df_impro_session_1_impro_4_M[train_impro_4+val_impro_4:],\n",
    "                                df_impro_session_2_impro_4_F[train_impro_4+val_impro_4:], \n",
    "                                df_impro_session_2_impro_4_M[train_impro_4+val_impro_4:], \n",
    "                                df_impro_session_3_impro_4_F[train_impro_4+val_impro_4:],\n",
    "                                df_impro_session_3_impro_4_M[train_impro_4+val_impro_4:],\n",
    "                                df_impro_session_4_impro_4_F[train_impro_4+val_impro_4:],\n",
    "                                df_impro_session_4_impro_4_M[train_impro_4+val_impro_4:],\n",
    "                                df_impro_session_5_impro_4_F[train_impro_4+val_impro_4:],\n",
    "                                df_impro_session_5_impro_4_M[train_impro_4+val_impro_4:],\n",
    "                                df_impro_session_1_impro_5_F[train_impro_5+val_impro_5:],\n",
    "                                df_impro_session_1_impro_5_M[train_impro_5+val_impro_5:],\n",
    "                                df_impro_session_2_impro_5_F[train_impro_5+val_impro_5:], \n",
    "                                df_impro_session_2_impro_5_M[train_impro_5+val_impro_5:], \n",
    "                                df_impro_session_3_impro_5_F[train_impro_5+val_impro_5:],\n",
    "                                df_impro_session_3_impro_5_M[train_impro_5+val_impro_5:],\n",
    "                                df_impro_session_4_impro_5_F[train_impro_5+val_impro_5:],\n",
    "                                df_impro_session_4_impro_5_M[train_impro_5+val_impro_5:],\n",
    "                                df_impro_session_5_impro_5_F[train_impro_5+val_impro_5:],\n",
    "                                df_impro_session_5_impro_5_M[train_impro_5+val_impro_5:],\n",
    "                                df_impro_session_1_impro_6_F[train_impro_6+val_impro_6:],\n",
    "                                df_impro_session_1_impro_6_M[train_impro_6+val_impro_6:],\n",
    "                                df_impro_session_2_impro_6_F[train_impro_6+val_impro_6:], \n",
    "                                df_impro_session_2_impro_6_M[train_impro_6+val_impro_6:], \n",
    "                                df_impro_session_3_impro_6_F[train_impro_6+val_impro_6:],\n",
    "                                df_impro_session_3_impro_6_M[train_impro_6+val_impro_6:],\n",
    "                                df_impro_session_4_impro_6_F[train_impro_6+val_impro_6:],\n",
    "                                df_impro_session_4_impro_6_M[train_impro_6+val_impro_6:],\n",
    "                                df_impro_session_5_impro_6_F[train_impro_6+val_impro_6:],\n",
    "                                df_impro_session_5_impro_6_M[train_impro_6+val_impro_6:],\n",
    "                                df_impro_session_1_impro_7_F[train_impro_7+val_impro_7:],\n",
    "                                df_impro_session_1_impro_7_M[train_impro_7+val_impro_7:],\n",
    "                                df_impro_session_2_impro_7_F[train_impro_7+val_impro_7:], \n",
    "                                df_impro_session_2_impro_7_M[train_impro_7+val_impro_7:], \n",
    "                                df_impro_session_3_impro_7_F[train_impro_7+val_impro_7:],\n",
    "                                df_impro_session_3_impro_7_M[train_impro_7+val_impro_7:],\n",
    "                                df_impro_session_4_impro_7_F[train_impro_7+val_impro_7:],\n",
    "                                df_impro_session_4_impro_7_M[train_impro_7+val_impro_7:],\n",
    "                                df_impro_session_5_impro_7_F[train_impro_7+val_impro_7:],\n",
    "                                df_impro_session_5_impro_7_M[train_impro_7+val_impro_7:],\n",
    "                                df_impro_session_1_impro_8_F[train_impro_8+val_impro_8:],\n",
    "                                df_impro_session_1_impro_8_M[train_impro_8+val_impro_8:],\n",
    "                                df_impro_session_2_impro_8_F[train_impro_8+val_impro_8:], \n",
    "                                df_impro_session_2_impro_8_M[train_impro_8+val_impro_8:], \n",
    "                                df_impro_session_3_impro_8_F[train_impro_8+val_impro_8:],\n",
    "                                df_impro_session_3_impro_8_M[train_impro_8+val_impro_8:],\n",
    "                                df_impro_session_4_impro_8_F[train_impro_8+val_impro_8:],\n",
    "                                df_impro_session_4_impro_8_M[train_impro_8+val_impro_8:],\n",
    "                                df_impro_session_5_impro_8_F[train_impro_8+val_impro_8:],\n",
    "                                df_impro_session_5_impro_8_M[train_impro_8+val_impro_8:]]) \n",
    "    return df_impro_train, df_impro_val, df_impro_test\n",
    "\n",
    "df_impro_train, df_impro_val, df_impro_test = impro_splits() \n",
    "len(df_impro_val)                                    "
   ]
  },
  {
   "cell_type": "code",
   "execution_count": 116,
   "id": "c777b277",
   "metadata": {},
   "outputs": [
    {
     "data": {
      "text/html": [
       "<div>\n",
       "<style scoped>\n",
       "    .dataframe tbody tr th:only-of-type {\n",
       "        vertical-align: middle;\n",
       "    }\n",
       "\n",
       "    .dataframe tbody tr th {\n",
       "        vertical-align: top;\n",
       "    }\n",
       "\n",
       "    .dataframe thead th {\n",
       "        text-align: right;\n",
       "    }\n",
       "</style>\n",
       "<table border=\"1\" class=\"dataframe\">\n",
       "  <thead>\n",
       "    <tr style=\"text-align: right;\">\n",
       "      <th></th>\n",
       "      <th>utt_id</th>\n",
       "      <th>EDA</th>\n",
       "      <th>filename</th>\n",
       "      <th>session_number</th>\n",
       "      <th>speaker</th>\n",
       "      <th>improv_script_id</th>\n",
       "      <th>start</th>\n",
       "      <th>end</th>\n",
       "      <th>utterance</th>\n",
       "      <th>original_order</th>\n",
       "    </tr>\n",
       "  </thead>\n",
       "  <tbody>\n",
       "    <tr>\n",
       "      <th>0</th>\n",
       "      <td>0</td>\n",
       "      <td>sd</td>\n",
       "      <td>Ses01M_impro07</td>\n",
       "      <td>1</td>\n",
       "      <td>M</td>\n",
       "      <td>impro07</td>\n",
       "      <td>2.6812</td>\n",
       "      <td>7.98</td>\n",
       "      <td>Check this out.  You know how I've told you I'...</td>\n",
       "      <td>0</td>\n",
       "    </tr>\n",
       "    <tr>\n",
       "      <th>1</th>\n",
       "      <td>0</td>\n",
       "      <td>b</td>\n",
       "      <td>Ses01M_impro07</td>\n",
       "      <td>1</td>\n",
       "      <td>F</td>\n",
       "      <td>impro07</td>\n",
       "      <td>7.6300</td>\n",
       "      <td>8.57</td>\n",
       "      <td>Yeah.</td>\n",
       "      <td>1</td>\n",
       "    </tr>\n",
       "    <tr>\n",
       "      <th>2</th>\n",
       "      <td>1</td>\n",
       "      <td>sd</td>\n",
       "      <td>Ses01M_impro07</td>\n",
       "      <td>1</td>\n",
       "      <td>M</td>\n",
       "      <td>impro07</td>\n",
       "      <td>8.2200</td>\n",
       "      <td>14.75</td>\n",
       "      <td>Well, this is totally random, I got this full ...</td>\n",
       "      <td>2</td>\n",
       "    </tr>\n",
       "    <tr>\n",
       "      <th>3</th>\n",
       "      <td>1</td>\n",
       "      <td>qy</td>\n",
       "      <td>Ses01M_impro07</td>\n",
       "      <td>1</td>\n",
       "      <td>F</td>\n",
       "      <td>impro07</td>\n",
       "      <td>13.9500</td>\n",
       "      <td>21.12</td>\n",
       "      <td>[LAUGHTER]. For softball? That's unbelievable....</td>\n",
       "      <td>3</td>\n",
       "    </tr>\n",
       "    <tr>\n",
       "      <th>4</th>\n",
       "      <td>2</td>\n",
       "      <td>qy</td>\n",
       "      <td>Ses01M_impro07</td>\n",
       "      <td>1</td>\n",
       "      <td>M</td>\n",
       "      <td>impro07</td>\n",
       "      <td>15.5400</td>\n",
       "      <td>20.67</td>\n",
       "      <td>For softball.  They're going to pay me to go t...</td>\n",
       "      <td>4</td>\n",
       "    </tr>\n",
       "    <tr>\n",
       "      <th>...</th>\n",
       "      <td>...</td>\n",
       "      <td>...</td>\n",
       "      <td>...</td>\n",
       "      <td>...</td>\n",
       "      <td>...</td>\n",
       "      <td>...</td>\n",
       "      <td>...</td>\n",
       "      <td>...</td>\n",
       "      <td>...</td>\n",
       "      <td>...</td>\n",
       "    </tr>\n",
       "    <tr>\n",
       "      <th>9966</th>\n",
       "      <td>24</td>\n",
       "      <td>aa</td>\n",
       "      <td>Ses05F_impro06</td>\n",
       "      <td>5</td>\n",
       "      <td>M</td>\n",
       "      <td>impro06</td>\n",
       "      <td>207.0900</td>\n",
       "      <td>209.07</td>\n",
       "      <td>Absolutely.</td>\n",
       "      <td>51</td>\n",
       "    </tr>\n",
       "    <tr>\n",
       "      <th>9967</th>\n",
       "      <td>27</td>\n",
       "      <td>sd</td>\n",
       "      <td>Ses05F_impro06</td>\n",
       "      <td>5</td>\n",
       "      <td>F</td>\n",
       "      <td>impro06</td>\n",
       "      <td>208.7300</td>\n",
       "      <td>210.52</td>\n",
       "      <td>[BREATHING]</td>\n",
       "      <td>52</td>\n",
       "    </tr>\n",
       "    <tr>\n",
       "      <th>9968</th>\n",
       "      <td>25</td>\n",
       "      <td>qy</td>\n",
       "      <td>Ses05F_impro06</td>\n",
       "      <td>5</td>\n",
       "      <td>M</td>\n",
       "      <td>impro06</td>\n",
       "      <td>210.4800</td>\n",
       "      <td>221.85</td>\n",
       "      <td>Do you know what, if it was me that died, I'd ...</td>\n",
       "      <td>53</td>\n",
       "    </tr>\n",
       "    <tr>\n",
       "      <th>9969</th>\n",
       "      <td>28</td>\n",
       "      <td>xx</td>\n",
       "      <td>Ses05F_impro06</td>\n",
       "      <td>5</td>\n",
       "      <td>F</td>\n",
       "      <td>impro06</td>\n",
       "      <td>215.3500</td>\n",
       "      <td>217.15</td>\n",
       "      <td>[LAUGHTER]</td>\n",
       "      <td>54</td>\n",
       "    </tr>\n",
       "    <tr>\n",
       "      <th>9970</th>\n",
       "      <td>29</td>\n",
       "      <td>b</td>\n",
       "      <td>Ses05F_impro06</td>\n",
       "      <td>5</td>\n",
       "      <td>F</td>\n",
       "      <td>impro06</td>\n",
       "      <td>220.7800</td>\n",
       "      <td>222.76</td>\n",
       "      <td>yeah yeah.</td>\n",
       "      <td>55</td>\n",
       "    </tr>\n",
       "  </tbody>\n",
       "</table>\n",
       "<p>4784 rows × 10 columns</p>\n",
       "</div>"
      ],
      "text/plain": [
       "      utt_id EDA        filename  session_number speaker improv_script_id  \\\n",
       "0          0  sd  Ses01M_impro07               1       M          impro07   \n",
       "1          0   b  Ses01M_impro07               1       F          impro07   \n",
       "2          1  sd  Ses01M_impro07               1       M          impro07   \n",
       "3          1  qy  Ses01M_impro07               1       F          impro07   \n",
       "4          2  qy  Ses01M_impro07               1       M          impro07   \n",
       "...      ...  ..             ...             ...     ...              ...   \n",
       "9966      24  aa  Ses05F_impro06               5       M          impro06   \n",
       "9967      27  sd  Ses05F_impro06               5       F          impro06   \n",
       "9968      25  qy  Ses05F_impro06               5       M          impro06   \n",
       "9969      28  xx  Ses05F_impro06               5       F          impro06   \n",
       "9970      29   b  Ses05F_impro06               5       F          impro06   \n",
       "\n",
       "         start     end                                          utterance  \\\n",
       "0       2.6812    7.98  Check this out.  You know how I've told you I'...   \n",
       "1       7.6300    8.57                                              Yeah.   \n",
       "2       8.2200   14.75  Well, this is totally random, I got this full ...   \n",
       "3      13.9500   21.12  [LAUGHTER]. For softball? That's unbelievable....   \n",
       "4      15.5400   20.67  For softball.  They're going to pay me to go t...   \n",
       "...        ...     ...                                                ...   \n",
       "9966  207.0900  209.07                                        Absolutely.   \n",
       "9967  208.7300  210.52                                        [BREATHING]   \n",
       "9968  210.4800  221.85  Do you know what, if it was me that died, I'd ...   \n",
       "9969  215.3500  217.15                                         [LAUGHTER]   \n",
       "9970  220.7800  222.76                                         yeah yeah.   \n",
       "\n",
       "      original_order  \n",
       "0                  0  \n",
       "1                  1  \n",
       "2                  2  \n",
       "3                  3  \n",
       "4                  4  \n",
       "...              ...  \n",
       "9966              51  \n",
       "9967              52  \n",
       "9968              53  \n",
       "9969              54  \n",
       "9970              55  \n",
       "\n",
       "[4784 rows x 10 columns]"
      ]
     },
     "execution_count": 116,
     "metadata": {},
     "output_type": "execute_result"
    }
   ],
   "source": [
    "final_df[(final_df[\"filename\"].str.contains(\"impro\"))]\n"
   ]
  },
  {
   "cell_type": "code",
   "execution_count": null,
   "id": "d60a5f22",
   "metadata": {},
   "outputs": [],
   "source": [
    "def improv_splits():    \n",
    "    # session 1\n",
    "    df_scripted_session_1_script_1_M = final_df[(final_df[\"filename\"].str.contains(\"M_script01\")) & (final_df[\"session_number\"] == 1)].sort_values(by=['filename', 'original_order'])\n",
    "    df_scripted_session_1_script_1_F = final_df[(final_df[\"filename\"].str.contains(\"F_script01\")) & (final_df[\"session_number\"] == 1)].sort_values(by=['filename', 'original_order'])\n",
    "    df_scripted_session_1_script_2_M = final_df[(final_df[\"filename\"].str.contains(\"M_script02\")) & (final_df[\"session_number\"] == 1)].sort_values(by=['filename', 'original_order'])\n",
    "    df_scripted_session_1_script_2_F = final_df[(final_df[\"filename\"].str.contains(\"F_script02\")) & (final_df[\"session_number\"] == 1)].sort_values(by=['filename', 'original_order'])\n",
    "    df_scripted_session_1_script_3_M = final_df[(final_df[\"filename\"].str.contains(\"M_script03\")) & (final_df[\"session_number\"] == 1)].sort_values(by=['filename', 'original_order'])\n",
    "    df_scripted_session_1_script_3_F = final_df[(final_df[\"filename\"].str.contains(\"F_script03\")) & (final_df[\"session_number\"] == 1)].sort_values(by=['filename', 'original_order'])\n",
    "\n",
    "    # session 2\n",
    "    df_scripted_session_2_script_1_M = final_df[(final_df[\"filename\"].str.contains(\"M_script01\")) & (final_df[\"session_number\"] == 2)].sort_values(by=['filename', 'original_order'])\n",
    "    df_scripted_session_2_script_1_F = final_df[(final_df[\"filename\"].str.contains(\"F_script01\")) & (final_df[\"session_number\"] == 2)].sort_values(by=['filename', 'original_order'])\n",
    "    df_scripted_session_2_script_2_M = final_df[(final_df[\"filename\"].str.contains(\"M_script02\")) & (final_df[\"session_number\"] == 2)].sort_values(by=['filename', 'original_order'])\n",
    "    df_scripted_session_2_script_2_F = final_df[(final_df[\"filename\"].str.contains(\"F_script02\")) & (final_df[\"session_number\"] == 2)].sort_values(by=['filename', 'original_order'])\n",
    "    df_scripted_session_2_script_3_M = final_df[(final_df[\"filename\"].str.contains(\"M_script03\")) & (final_df[\"session_number\"] == 2)].sort_values(by=['filename', 'original_order'])\n",
    "    df_scripted_session_2_script_3_F = final_df[(final_df[\"filename\"].str.contains(\"F_script03\")) & (final_df[\"session_number\"] == 2)].sort_values(by=['filename', 'original_order'])\n",
    "\n",
    "    # session 3\n",
    "    df_scripted_session_3_script_1_M = final_df[(final_df[\"filename\"].str.contains(\"M_script01\")) & (final_df[\"session_number\"] == 3)].sort_values(by=['filename', 'original_order'])\n",
    "    df_scripted_session_3_script_1_F = final_df[(final_df[\"filename\"].str.contains(\"F_script01\")) & (final_df[\"session_number\"] == 3)].sort_values(by=['filename', 'original_order'])\n",
    "    df_scripted_session_3_script_2_M = final_df[(final_df[\"filename\"].str.contains(\"M_script02\")) & (final_df[\"session_number\"] == 3)].sort_values(by=['filename', 'original_order'])\n",
    "    df_scripted_session_3_script_2_F = final_df[(final_df[\"filename\"].str.contains(\"F_script02\")) & (final_df[\"session_number\"] == 3)].sort_values(by=['filename', 'original_order'])\n",
    "    df_scripted_session_3_script_3_M = final_df[(final_df[\"filename\"].str.contains(\"M_script03\")) & (final_df[\"session_number\"] == 3)].sort_values(by=['filename', 'original_order'])\n",
    "    df_scripted_session_3_script_3_F = final_df[(final_df[\"filename\"].str.contains(\"F_script03\")) & (final_df[\"session_number\"] == 3)].sort_values(by=['filename', 'original_order'])\n",
    "\n",
    "    # session 4\n",
    "    df_scripted_session_4_script_1_M = final_df[(final_df[\"filename\"].str.contains(\"M_script01\")) & (final_df[\"session_number\"] == 4)].sort_values(by=['filename', 'original_order'])\n",
    "    df_scripted_session_4_script_1_F = final_df[(final_df[\"filename\"].str.contains(\"F_script01\")) & (final_df[\"session_number\"] == 4)].sort_values(by=['filename', 'original_order'])\n",
    "    df_scripted_session_4_script_2_M = final_df[(final_df[\"filename\"].str.contains(\"M_script02\")) & (final_df[\"session_number\"] == 4)].sort_values(by=['filename', 'original_order'])\n",
    "    df_scripted_session_4_script_2_F = final_df[(final_df[\"filename\"].str.contains(\"F_script02\")) & (final_df[\"session_number\"] == 4)].sort_values(by=['filename', 'original_order'])\n",
    "    df_scripted_session_4_script_3_M = final_df[(final_df[\"filename\"].str.contains(\"M_script03\")) & (final_df[\"session_number\"] == 4)].sort_values(by=['filename', 'original_order'])\n",
    "    df_scripted_session_4_script_3_F = final_df[(final_df[\"filename\"].str.contains(\"F_script03\")) & (final_df[\"session_number\"] == 4)].sort_values(by=['filename', 'original_order'])\n",
    "\n",
    "    # session 5\n",
    "    df_scripted_session_5_script_1_M = final_df[(final_df[\"filename\"].str.contains(\"M_script01\")) & (final_df[\"session_number\"] == 5)].sort_values(by=['filename', 'original_order'])\n",
    "    df_scripted_session_5_script_1_F = final_df[(final_df[\"filename\"].str.contains(\"F_script01\")) & (final_df[\"session_number\"] == 5)].sort_values(by=['filename', 'original_order'])\n",
    "    df_scripted_session_5_script_2_M = final_df[(final_df[\"filename\"].str.contains(\"M_script02\")) & (final_df[\"session_number\"] == 5)].sort_values(by=['filename', 'original_order'])\n",
    "    df_scripted_session_5_script_2_F = final_df[(final_df[\"filename\"].str.contains(\"F_script02\")) & (final_df[\"session_number\"] == 5)].sort_values(by=['filename', 'original_order'])\n",
    "    df_scripted_session_5_script_3_M = final_df[(final_df[\"filename\"].str.contains(\"M_script03\")) & (final_df[\"session_number\"] == 5)].sort_values(by=['filename', 'original_order'])\n",
    "    df_scripted_session_5_script_3_F = final_df[(final_df[\"filename\"].str.contains(\"F_script03\")) & (final_df[\"session_number\"] == 5)].sort_values(by=['filename', 'original_order'])\n",
    "\n",
    "    # need to this for each script across sections because although they are the same script, the lines are not memorized perfectly and so there are some length differences\n",
    "    min_script_1 = min([len(df_scripted_session_1_script_1_F), len(df_scripted_session_1_script_1_M),\\\n",
    "                        len(df_scripted_session_2_script_1_F), len(df_scripted_session_2_script_1_M),\\\n",
    "                        len(df_scripted_session_3_script_1_F), len(df_scripted_session_3_script_1_M),\\\n",
    "                        len(df_scripted_session_4_script_1_F), len(df_scripted_session_4_script_1_M),\\\n",
    "                        len(df_scripted_session_5_script_1_F), len(df_scripted_session_5_script_1_M)])\n",
    "\n",
    "    min_script_2 = min([len(df_scripted_session_1_script_2_F), len(df_scripted_session_1_script_2_M),\\\n",
    "                        len(df_scripted_session_2_script_2_F), len(df_scripted_session_2_script_2_M),\\\n",
    "                        len(df_scripted_session_3_script_2_F), len(df_scripted_session_3_script_2_M),\\\n",
    "                        len(df_scripted_session_4_script_2_F), len(df_scripted_session_4_script_2_M),\\\n",
    "                        len(df_scripted_session_5_script_2_F), len(df_scripted_session_5_script_2_M)])\n",
    "\n",
    "    min_script_3 = min([len(df_scripted_session_1_script_3_F), len(df_scripted_session_1_script_3_M),\\\n",
    "                        len(df_scripted_session_2_script_3_F), len(df_scripted_session_2_script_3_M),\\\n",
    "                        len(df_scripted_session_3_script_3_F), len(df_scripted_session_3_script_3_M),\\\n",
    "                        len(df_scripted_session_4_script_3_F), len(df_scripted_session_4_script_3_M),\\\n",
    "                        len(df_scripted_session_5_script_3_F), len(df_scripted_session_5_script_3_M)])\n",
    "\n",
    "    train_script_1 = int(min_script_1*0.8)\n",
    "    val_script_1 = (min_script_1-train_script_1)//2\n",
    "\n",
    "    train_script_2 = int(min_script_2*0.8)\n",
    "    val_script_2 = (min_script_2-train_script_2)//2\n",
    "\n",
    "    train_script_3 = int(min_script_3*0.8)\n",
    "    val_script_3 = (min_script_3-train_script_3)//2\n",
    "\n",
    "    #df_scripted_session_1_script_1_F.sample(frac=1) # going to ignore this for now and not shuffle within each script because that means merging sessions... to confusing and not perfect matching\n",
    "    df_scripted_train = pd.concat([df_scripted_session_1_script_1_F[:train_script_1],\n",
    "                                df_scripted_session_1_script_1_M[:train_script_1],\n",
    "                                df_scripted_session_2_script_1_F[:train_script_1], \n",
    "                                df_scripted_session_2_script_1_M[:train_script_1], \n",
    "                                df_scripted_session_3_script_1_F[:train_script_1],\n",
    "                                df_scripted_session_3_script_1_M[:train_script_1],\n",
    "                                df_scripted_session_4_script_1_F[:train_script_1],\n",
    "                                df_scripted_session_4_script_1_M[:train_script_1],\n",
    "                                df_scripted_session_5_script_1_F[:train_script_1],\n",
    "                                df_scripted_session_5_script_1_M[:train_script_1],\n",
    "                                df_scripted_session_1_script_2_F[:train_script_2],\n",
    "                                df_scripted_session_1_script_2_M[:train_script_2],\n",
    "                                df_scripted_session_2_script_2_F[:train_script_2], \n",
    "                                df_scripted_session_2_script_2_M[:train_script_2], \n",
    "                                df_scripted_session_3_script_2_F[:train_script_2],\n",
    "                                df_scripted_session_3_script_2_M[:train_script_2],\n",
    "                                df_scripted_session_4_script_2_F[:train_script_2],\n",
    "                                df_scripted_session_4_script_2_M[:train_script_2],\n",
    "                                df_scripted_session_5_script_2_F[:train_script_2],\n",
    "                                df_scripted_session_5_script_2_M[:train_script_2],\n",
    "                                df_scripted_session_1_script_3_F[:train_script_3],\n",
    "                                df_scripted_session_1_script_3_M[:train_script_3],\n",
    "                                df_scripted_session_2_script_3_F[:train_script_3], \n",
    "                                df_scripted_session_2_script_3_M[:train_script_3], \n",
    "                                df_scripted_session_3_script_3_F[:train_script_3],\n",
    "                                df_scripted_session_3_script_3_M[:train_script_3],\n",
    "                                df_scripted_session_4_script_3_F[:train_script_3],\n",
    "                                df_scripted_session_4_script_3_M[:train_script_3],\n",
    "                                df_scripted_session_5_script_3_F[:train_script_3],\n",
    "                                df_scripted_session_5_script_3_M[:train_script_3]])\n",
    "\n",
    "    df_scripted_val = pd.concat([df_scripted_session_1_script_1_F[train_script_1: train_script_1+val_script_1],\n",
    "                                df_scripted_session_1_script_1_M[train_script_1: train_script_1+val_script_1],\n",
    "                                df_scripted_session_2_script_1_F[train_script_1: train_script_1+val_script_1], \n",
    "                                df_scripted_session_2_script_1_M[train_script_1: train_script_1+val_script_1], \n",
    "                                df_scripted_session_3_script_1_F[train_script_1: train_script_1+val_script_1],\n",
    "                                df_scripted_session_3_script_1_M[train_script_1: train_script_1+val_script_1],\n",
    "                                df_scripted_session_4_script_1_F[train_script_1: train_script_1+val_script_1],\n",
    "                                df_scripted_session_4_script_1_M[train_script_1: train_script_1+val_script_1],\n",
    "                                df_scripted_session_5_script_1_F[train_script_1: train_script_1+val_script_1],\n",
    "                                df_scripted_session_5_script_1_M[train_script_1: train_script_1+val_script_1],\n",
    "                                df_scripted_session_1_script_2_F[train_script_2: train_script_2+val_script_2],\n",
    "                                df_scripted_session_1_script_2_M[train_script_2: train_script_2+val_script_2],\n",
    "                                df_scripted_session_2_script_2_F[train_script_2: train_script_2+val_script_2], \n",
    "                                df_scripted_session_2_script_2_M[train_script_2: train_script_2+val_script_2], \n",
    "                                df_scripted_session_3_script_2_F[train_script_2: train_script_2+val_script_2],\n",
    "                                df_scripted_session_3_script_2_M[train_script_2: train_script_2+val_script_2],\n",
    "                                df_scripted_session_4_script_2_F[train_script_2: train_script_2+val_script_2],\n",
    "                                df_scripted_session_4_script_2_M[train_script_2: train_script_2+val_script_2],\n",
    "                                df_scripted_session_5_script_2_F[train_script_2: train_script_2+val_script_2],\n",
    "                                df_scripted_session_5_script_2_M[train_script_2: train_script_2+val_script_2],\n",
    "                                df_scripted_session_1_script_3_F[train_script_3: train_script_3+val_script_3],\n",
    "                                df_scripted_session_1_script_3_M[train_script_3: train_script_3+val_script_3],\n",
    "                                df_scripted_session_2_script_3_F[train_script_3: train_script_3+val_script_3], \n",
    "                                df_scripted_session_2_script_3_M[train_script_3: train_script_3+val_script_3], \n",
    "                                df_scripted_session_3_script_3_F[train_script_3: train_script_3+val_script_3],\n",
    "                                df_scripted_session_3_script_3_M[train_script_3: train_script_3+val_script_3],\n",
    "                                df_scripted_session_4_script_3_F[train_script_3: train_script_3+val_script_3],\n",
    "                                df_scripted_session_4_script_3_M[train_script_3: train_script_3+val_script_3],\n",
    "                                df_scripted_session_5_script_3_F[train_script_3: train_script_3+val_script_3],\n",
    "                                df_scripted_session_5_script_3_M[train_script_3: train_script_3+val_script_3]])\n",
    "\n",
    "    df_scripted_test = pd.concat([df_scripted_session_1_script_1_F[train_script_1+val_script_1:],\n",
    "                                df_scripted_session_1_script_1_M[train_script_1+val_script_1:],\n",
    "                                df_scripted_session_2_script_1_F[train_script_1+val_script_1:], \n",
    "                                df_scripted_session_2_script_1_M[train_script_1+val_script_1:], \n",
    "                                df_scripted_session_3_script_1_F[train_script_1+val_script_1:],\n",
    "                                df_scripted_session_3_script_1_M[train_script_1+val_script_1:],\n",
    "                                df_scripted_session_4_script_1_F[train_script_1+val_script_1:],\n",
    "                                df_scripted_session_5_script_1_F[train_script_1+val_script_1:],\n",
    "                                df_scripted_session_5_script_1_M[train_script_1+val_script_1:],\n",
    "                                df_scripted_session_1_script_2_F[train_script_2+val_script_2:],\n",
    "                                df_scripted_session_1_script_2_M[train_script_2+val_script_2:],\n",
    "                                df_scripted_session_2_script_2_F[train_script_2+val_script_2:], \n",
    "                                df_scripted_session_2_script_2_M[train_script_2+val_script_2:], \n",
    "                                df_scripted_session_3_script_2_F[train_script_2+val_script_2:],\n",
    "                                df_scripted_session_3_script_2_M[train_script_2+val_script_2:],\n",
    "                                df_scripted_session_4_script_2_F[train_script_2+val_script_2:],\n",
    "                                df_scripted_session_4_script_2_M[train_script_2+val_script_2:],\n",
    "                                df_scripted_session_5_script_2_F[train_script_2+val_script_2:],\n",
    "                                df_scripted_session_5_script_2_M[train_script_2+val_script_2:],\n",
    "                                df_scripted_session_1_script_3_F[train_script_3+val_script_3:],\n",
    "                                df_scripted_session_1_script_3_M[train_script_3+val_script_3:],\n",
    "                                df_scripted_session_2_script_3_F[train_script_3+val_script_3:], \n",
    "                                df_scripted_session_2_script_3_M[train_script_3+val_script_3:], \n",
    "                                df_scripted_session_3_script_3_F[train_script_3+val_script_3:],\n",
    "                                df_scripted_session_3_script_3_M[train_script_3+val_script_3:],\n",
    "                                df_scripted_session_4_script_3_F[train_script_3+val_script_3:],\n",
    "                                df_scripted_session_4_script_3_M[train_script_3+val_script_3:],\n",
    "                                df_scripted_session_5_script_3_F[train_script_3+val_script_3:],\n",
    "                                df_scripted_session_5_script_3_M[train_script_3+val_script_3:]])\n",
    "\n",
    "    # need to split separately across the different sessions since they all have the same scripts\n",
    "    # df_session_1_script_1 = pd.merge(df_scripted_session_1_script_1_F, df_scripted_session_1_script_1_M, on=[\"utt_id\", \"session_number\", \"improv_script_id\", \"speaker\"])\n",
    "    # df_session_2_script_1 = pd.merge(df_scripted_session_2_script_1_F, df_scripted_session_2_script_1_M, on=[\"utt_id\", \"session_number\", \"improv_script_id\", \"speaker\"])\n",
    "    # df_session_3_script_1 = pd.merge(df_scripted_session_3_script_1_F, df_scripted_session_3_script_1_M, on=[\"utt_id\", \"session_number\", \"improv_script_id\", \"speaker\"])\n",
    "    # df_session_4_script_1 = pd.merge(df_scripted_session_4_script_1_F, df_scripted_session_4_script_1_M, on=[\"utt_id\", \"session_number\", \"improv_script_id\", \"speaker\"])\n",
    "    # df_session_5_script_1 = pd.merge(df_scripted_session_5_script_1_F, df_scripted_session_5_script_1_M, on=[\"utt_id\", \"session_number\", \"improv_script_id\", \"speaker\"])\n",
    "\n",
    "    return df_scripted_train, df_scripted_val, df_scripted_test\n",
    "    \n"
   ]
  },
  {
   "cell_type": "code",
   "execution_count": 117,
   "id": "ed97a182",
   "metadata": {},
   "outputs": [],
   "source": [
    "def scripted_splits():    \n",
    "    # session 1\n",
    "    df_scripted_session_1_script_1_M = final_df[(final_df[\"filename\"].str.contains(\"M_script01\")) & (final_df[\"session_number\"] == 1)].sort_values(by=['filename', 'original_order'])\n",
    "    df_scripted_session_1_script_1_F = final_df[(final_df[\"filename\"].str.contains(\"F_script01\")) & (final_df[\"session_number\"] == 1)].sort_values(by=['filename', 'original_order'])\n",
    "    df_scripted_session_1_script_2_M = final_df[(final_df[\"filename\"].str.contains(\"M_script02\")) & (final_df[\"session_number\"] == 1)].sort_values(by=['filename', 'original_order'])\n",
    "    df_scripted_session_1_script_2_F = final_df[(final_df[\"filename\"].str.contains(\"F_script02\")) & (final_df[\"session_number\"] == 1)].sort_values(by=['filename', 'original_order'])\n",
    "    df_scripted_session_1_script_3_M = final_df[(final_df[\"filename\"].str.contains(\"M_script03\")) & (final_df[\"session_number\"] == 1)].sort_values(by=['filename', 'original_order'])\n",
    "    df_scripted_session_1_script_3_F = final_df[(final_df[\"filename\"].str.contains(\"F_script03\")) & (final_df[\"session_number\"] == 1)].sort_values(by=['filename', 'original_order'])\n",
    "\n",
    "    # session 2\n",
    "    df_scripted_session_2_script_1_M = final_df[(final_df[\"filename\"].str.contains(\"M_script01\")) & (final_df[\"session_number\"] == 2)].sort_values(by=['filename', 'original_order'])\n",
    "    df_scripted_session_2_script_1_F = final_df[(final_df[\"filename\"].str.contains(\"F_script01\")) & (final_df[\"session_number\"] == 2)].sort_values(by=['filename', 'original_order'])\n",
    "    df_scripted_session_2_script_2_M = final_df[(final_df[\"filename\"].str.contains(\"M_script02\")) & (final_df[\"session_number\"] == 2)].sort_values(by=['filename', 'original_order'])\n",
    "    df_scripted_session_2_script_2_F = final_df[(final_df[\"filename\"].str.contains(\"F_script02\")) & (final_df[\"session_number\"] == 2)].sort_values(by=['filename', 'original_order'])\n",
    "    df_scripted_session_2_script_3_M = final_df[(final_df[\"filename\"].str.contains(\"M_script03\")) & (final_df[\"session_number\"] == 2)].sort_values(by=['filename', 'original_order'])\n",
    "    df_scripted_session_2_script_3_F = final_df[(final_df[\"filename\"].str.contains(\"F_script03\")) & (final_df[\"session_number\"] == 2)].sort_values(by=['filename', 'original_order'])\n",
    "\n",
    "    # session 3\n",
    "    df_scripted_session_3_script_1_M = final_df[(final_df[\"filename\"].str.contains(\"M_script01\")) & (final_df[\"session_number\"] == 3)].sort_values(by=['filename', 'original_order'])\n",
    "    df_scripted_session_3_script_1_F = final_df[(final_df[\"filename\"].str.contains(\"F_script01\")) & (final_df[\"session_number\"] == 3)].sort_values(by=['filename', 'original_order'])\n",
    "    df_scripted_session_3_script_2_M = final_df[(final_df[\"filename\"].str.contains(\"M_script02\")) & (final_df[\"session_number\"] == 3)].sort_values(by=['filename', 'original_order'])\n",
    "    df_scripted_session_3_script_2_F = final_df[(final_df[\"filename\"].str.contains(\"F_script02\")) & (final_df[\"session_number\"] == 3)].sort_values(by=['filename', 'original_order'])\n",
    "    df_scripted_session_3_script_3_M = final_df[(final_df[\"filename\"].str.contains(\"M_script03\")) & (final_df[\"session_number\"] == 3)].sort_values(by=['filename', 'original_order'])\n",
    "    df_scripted_session_3_script_3_F = final_df[(final_df[\"filename\"].str.contains(\"F_script03\")) & (final_df[\"session_number\"] == 3)].sort_values(by=['filename', 'original_order'])\n",
    "\n",
    "    # session 4\n",
    "    df_scripted_session_4_script_1_M = final_df[(final_df[\"filename\"].str.contains(\"M_script01\")) & (final_df[\"session_number\"] == 4)].sort_values(by=['filename', 'original_order'])\n",
    "    df_scripted_session_4_script_1_F = final_df[(final_df[\"filename\"].str.contains(\"F_script01\")) & (final_df[\"session_number\"] == 4)].sort_values(by=['filename', 'original_order'])\n",
    "    df_scripted_session_4_script_2_M = final_df[(final_df[\"filename\"].str.contains(\"M_script02\")) & (final_df[\"session_number\"] == 4)].sort_values(by=['filename', 'original_order'])\n",
    "    df_scripted_session_4_script_2_F = final_df[(final_df[\"filename\"].str.contains(\"F_script02\")) & (final_df[\"session_number\"] == 4)].sort_values(by=['filename', 'original_order'])\n",
    "    df_scripted_session_4_script_3_M = final_df[(final_df[\"filename\"].str.contains(\"M_script03\")) & (final_df[\"session_number\"] == 4)].sort_values(by=['filename', 'original_order'])\n",
    "    df_scripted_session_4_script_3_F = final_df[(final_df[\"filename\"].str.contains(\"F_script03\")) & (final_df[\"session_number\"] == 4)].sort_values(by=['filename', 'original_order'])\n",
    "\n",
    "    # session 5\n",
    "    df_scripted_session_5_script_1_M = final_df[(final_df[\"filename\"].str.contains(\"M_script01\")) & (final_df[\"session_number\"] == 5)].sort_values(by=['filename', 'original_order'])\n",
    "    df_scripted_session_5_script_1_F = final_df[(final_df[\"filename\"].str.contains(\"F_script01\")) & (final_df[\"session_number\"] == 5)].sort_values(by=['filename', 'original_order'])\n",
    "    df_scripted_session_5_script_2_M = final_df[(final_df[\"filename\"].str.contains(\"M_script02\")) & (final_df[\"session_number\"] == 5)].sort_values(by=['filename', 'original_order'])\n",
    "    df_scripted_session_5_script_2_F = final_df[(final_df[\"filename\"].str.contains(\"F_script02\")) & (final_df[\"session_number\"] == 5)].sort_values(by=['filename', 'original_order'])\n",
    "    df_scripted_session_5_script_3_M = final_df[(final_df[\"filename\"].str.contains(\"M_script03\")) & (final_df[\"session_number\"] == 5)].sort_values(by=['filename', 'original_order'])\n",
    "    df_scripted_session_5_script_3_F = final_df[(final_df[\"filename\"].str.contains(\"F_script03\")) & (final_df[\"session_number\"] == 5)].sort_values(by=['filename', 'original_order'])\n",
    "\n",
    "    # need to this for each script across sections because although they are the same script, the lines are not memorized perfectly and so there are some length differences\n",
    "    min_script_1 = min([len(df_scripted_session_1_script_1_F), len(df_scripted_session_1_script_1_M),\\\n",
    "                        len(df_scripted_session_2_script_1_F), len(df_scripted_session_2_script_1_M),\\\n",
    "                        len(df_scripted_session_3_script_1_F), len(df_scripted_session_3_script_1_M),\\\n",
    "                        len(df_scripted_session_4_script_1_F), len(df_scripted_session_4_script_1_M),\\\n",
    "                        len(df_scripted_session_5_script_1_F), len(df_scripted_session_5_script_1_M)])\n",
    "\n",
    "    min_script_2 = min([len(df_scripted_session_1_script_2_F), len(df_scripted_session_1_script_2_M),\\\n",
    "                        len(df_scripted_session_2_script_2_F), len(df_scripted_session_2_script_2_M),\\\n",
    "                        len(df_scripted_session_3_script_2_F), len(df_scripted_session_3_script_2_M),\\\n",
    "                        len(df_scripted_session_4_script_2_F), len(df_scripted_session_4_script_2_M),\\\n",
    "                        len(df_scripted_session_5_script_2_F), len(df_scripted_session_5_script_2_M)])\n",
    "\n",
    "    min_script_3 = min([len(df_scripted_session_1_script_3_F), len(df_scripted_session_1_script_3_M),\\\n",
    "                        len(df_scripted_session_2_script_3_F), len(df_scripted_session_2_script_3_M),\\\n",
    "                        len(df_scripted_session_3_script_3_F), len(df_scripted_session_3_script_3_M),\\\n",
    "                        len(df_scripted_session_4_script_3_F), len(df_scripted_session_4_script_3_M),\\\n",
    "                        len(df_scripted_session_5_script_3_F), len(df_scripted_session_5_script_3_M)])\n",
    "\n",
    "    train_script_1 = int(min_script_1*0.8)\n",
    "    val_script_1 = (min_script_1-train_script_1)//2\n",
    "\n",
    "    train_script_2 = int(min_script_2*0.8)\n",
    "    val_script_2 = (min_script_2-train_script_2)//2\n",
    "\n",
    "    train_script_3 = int(min_script_3*0.8)\n",
    "    val_script_3 = (min_script_3-train_script_3)//2\n",
    "\n",
    "    #df_scripted_session_1_script_1_F.sample(frac=1) # going to ignore this for now and not shuffle within each script because that means merging sessions... to confusing and not perfect matching\n",
    "    df_scripted_train = pd.concat([df_scripted_session_1_script_1_F[:train_script_1],\n",
    "                                df_scripted_session_1_script_1_M[:train_script_1],\n",
    "                                df_scripted_session_2_script_1_F[:train_script_1], \n",
    "                                df_scripted_session_2_script_1_M[:train_script_1], \n",
    "                                df_scripted_session_3_script_1_F[:train_script_1],\n",
    "                                df_scripted_session_3_script_1_M[:train_script_1],\n",
    "                                df_scripted_session_4_script_1_F[:train_script_1],\n",
    "                                df_scripted_session_4_script_1_M[:train_script_1],\n",
    "                                df_scripted_session_5_script_1_F[:train_script_1],\n",
    "                                df_scripted_session_5_script_1_M[:train_script_1],\n",
    "                                df_scripted_session_1_script_2_F[:train_script_2],\n",
    "                                df_scripted_session_1_script_2_M[:train_script_2],\n",
    "                                df_scripted_session_2_script_2_F[:train_script_2], \n",
    "                                df_scripted_session_2_script_2_M[:train_script_2], \n",
    "                                df_scripted_session_3_script_2_F[:train_script_2],\n",
    "                                df_scripted_session_3_script_2_M[:train_script_2],\n",
    "                                df_scripted_session_4_script_2_F[:train_script_2],\n",
    "                                df_scripted_session_4_script_2_M[:train_script_2],\n",
    "                                df_scripted_session_5_script_2_F[:train_script_2],\n",
    "                                df_scripted_session_5_script_2_M[:train_script_2],\n",
    "                                df_scripted_session_1_script_3_F[:train_script_3],\n",
    "                                df_scripted_session_1_script_3_M[:train_script_3],\n",
    "                                df_scripted_session_2_script_3_F[:train_script_3], \n",
    "                                df_scripted_session_2_script_3_M[:train_script_3], \n",
    "                                df_scripted_session_3_script_3_F[:train_script_3],\n",
    "                                df_scripted_session_3_script_3_M[:train_script_3],\n",
    "                                df_scripted_session_4_script_3_F[:train_script_3],\n",
    "                                df_scripted_session_4_script_3_M[:train_script_3],\n",
    "                                df_scripted_session_5_script_3_F[:train_script_3],\n",
    "                                df_scripted_session_5_script_3_M[:train_script_3]])\n",
    "\n",
    "    df_scripted_val = pd.concat([df_scripted_session_1_script_1_F[train_script_1: train_script_1+val_script_1],\n",
    "                                df_scripted_session_1_script_1_M[train_script_1: train_script_1+val_script_1],\n",
    "                                df_scripted_session_2_script_1_F[train_script_1: train_script_1+val_script_1], \n",
    "                                df_scripted_session_2_script_1_M[train_script_1: train_script_1+val_script_1], \n",
    "                                df_scripted_session_3_script_1_F[train_script_1: train_script_1+val_script_1],\n",
    "                                df_scripted_session_3_script_1_M[train_script_1: train_script_1+val_script_1],\n",
    "                                df_scripted_session_4_script_1_F[train_script_1: train_script_1+val_script_1],\n",
    "                                df_scripted_session_4_script_1_M[train_script_1: train_script_1+val_script_1],\n",
    "                                df_scripted_session_5_script_1_F[train_script_1: train_script_1+val_script_1],\n",
    "                                df_scripted_session_5_script_1_M[train_script_1: train_script_1+val_script_1],\n",
    "                                df_scripted_session_1_script_2_F[train_script_2: train_script_2+val_script_2],\n",
    "                                df_scripted_session_1_script_2_M[train_script_2: train_script_2+val_script_2],\n",
    "                                df_scripted_session_2_script_2_F[train_script_2: train_script_2+val_script_2], \n",
    "                                df_scripted_session_2_script_2_M[train_script_2: train_script_2+val_script_2], \n",
    "                                df_scripted_session_3_script_2_F[train_script_2: train_script_2+val_script_2],\n",
    "                                df_scripted_session_3_script_2_M[train_script_2: train_script_2+val_script_2],\n",
    "                                df_scripted_session_4_script_2_F[train_script_2: train_script_2+val_script_2],\n",
    "                                df_scripted_session_4_script_2_M[train_script_2: train_script_2+val_script_2],\n",
    "                                df_scripted_session_5_script_2_F[train_script_2: train_script_2+val_script_2],\n",
    "                                df_scripted_session_5_script_2_M[train_script_2: train_script_2+val_script_2],\n",
    "                                df_scripted_session_1_script_3_F[train_script_3: train_script_3+val_script_3],\n",
    "                                df_scripted_session_1_script_3_M[train_script_3: train_script_3+val_script_3],\n",
    "                                df_scripted_session_2_script_3_F[train_script_3: train_script_3+val_script_3], \n",
    "                                df_scripted_session_2_script_3_M[train_script_3: train_script_3+val_script_3], \n",
    "                                df_scripted_session_3_script_3_F[train_script_3: train_script_3+val_script_3],\n",
    "                                df_scripted_session_3_script_3_M[train_script_3: train_script_3+val_script_3],\n",
    "                                df_scripted_session_4_script_3_F[train_script_3: train_script_3+val_script_3],\n",
    "                                df_scripted_session_4_script_3_M[train_script_3: train_script_3+val_script_3],\n",
    "                                df_scripted_session_5_script_3_F[train_script_3: train_script_3+val_script_3],\n",
    "                                df_scripted_session_5_script_3_M[train_script_3: train_script_3+val_script_3]])\n",
    "\n",
    "    df_scripted_test = pd.concat([df_scripted_session_1_script_1_F[train_script_1+val_script_1:],\n",
    "                                df_scripted_session_1_script_1_M[train_script_1+val_script_1:],\n",
    "                                df_scripted_session_2_script_1_F[train_script_1+val_script_1:], \n",
    "                                df_scripted_session_2_script_1_M[train_script_1+val_script_1:], \n",
    "                                df_scripted_session_3_script_1_F[train_script_1+val_script_1:],\n",
    "                                df_scripted_session_3_script_1_M[train_script_1+val_script_1:],\n",
    "                                df_scripted_session_4_script_1_F[train_script_1+val_script_1:],\n",
    "                                df_scripted_session_5_script_1_F[train_script_1+val_script_1:],\n",
    "                                df_scripted_session_5_script_1_M[train_script_1+val_script_1:],\n",
    "                                df_scripted_session_1_script_2_F[train_script_2+val_script_2:],\n",
    "                                df_scripted_session_1_script_2_M[train_script_2+val_script_2:],\n",
    "                                df_scripted_session_2_script_2_F[train_script_2+val_script_2:], \n",
    "                                df_scripted_session_2_script_2_M[train_script_2+val_script_2:], \n",
    "                                df_scripted_session_3_script_2_F[train_script_2+val_script_2:],\n",
    "                                df_scripted_session_3_script_2_M[train_script_2+val_script_2:],\n",
    "                                df_scripted_session_4_script_2_F[train_script_2+val_script_2:],\n",
    "                                df_scripted_session_4_script_2_M[train_script_2+val_script_2:],\n",
    "                                df_scripted_session_5_script_2_F[train_script_2+val_script_2:],\n",
    "                                df_scripted_session_5_script_2_M[train_script_2+val_script_2:],\n",
    "                                df_scripted_session_1_script_3_F[train_script_3+val_script_3:],\n",
    "                                df_scripted_session_1_script_3_M[train_script_3+val_script_3:],\n",
    "                                df_scripted_session_2_script_3_F[train_script_3+val_script_3:], \n",
    "                                df_scripted_session_2_script_3_M[train_script_3+val_script_3:], \n",
    "                                df_scripted_session_3_script_3_F[train_script_3+val_script_3:],\n",
    "                                df_scripted_session_3_script_3_M[train_script_3+val_script_3:],\n",
    "                                df_scripted_session_4_script_3_F[train_script_3+val_script_3:],\n",
    "                                df_scripted_session_4_script_3_M[train_script_3+val_script_3:],\n",
    "                                df_scripted_session_5_script_3_F[train_script_3+val_script_3:],\n",
    "                                df_scripted_session_5_script_3_M[train_script_3+val_script_3:]])\n",
    "\n",
    "    # need to split separately across the different sessions since they all have the same scripts\n",
    "    # df_session_1_script_1 = pd.merge(df_scripted_session_1_script_1_F, df_scripted_session_1_script_1_M, on=[\"utt_id\", \"session_number\", \"improv_script_id\", \"speaker\"])\n",
    "    # df_session_2_script_1 = pd.merge(df_scripted_session_2_script_1_F, df_scripted_session_2_script_1_M, on=[\"utt_id\", \"session_number\", \"improv_script_id\", \"speaker\"])\n",
    "    # df_session_3_script_1 = pd.merge(df_scripted_session_3_script_1_F, df_scripted_session_3_script_1_M, on=[\"utt_id\", \"session_number\", \"improv_script_id\", \"speaker\"])\n",
    "    # df_session_4_script_1 = pd.merge(df_scripted_session_4_script_1_F, df_scripted_session_4_script_1_M, on=[\"utt_id\", \"session_number\", \"improv_script_id\", \"speaker\"])\n",
    "    # df_session_5_script_1 = pd.merge(df_scripted_session_5_script_1_F, df_scripted_session_5_script_1_M, on=[\"utt_id\", \"session_number\", \"improv_script_id\", \"speaker\"])\n",
    "\n",
    "    return df_scripted_train, df_scripted_val, df_scripted_test\n",
    "    \n",
    "\n",
    "df_scripted_train, df_scripted_val, df_scripted_test = scripted_splits()\n"
   ]
  },
  {
   "cell_type": "code",
   "execution_count": 112,
   "id": "055f79b6",
   "metadata": {},
   "outputs": [
    {
     "data": {
      "text/plain": [
       "(0.7212550220011479, 0.0899177348383394, 0.18882724316051272)"
      ]
     },
     "execution_count": 112,
     "metadata": {},
     "output_type": "execute_result"
    }
   ],
   "source": [
    "3770/5227, 470/5227, 987/5227, "
   ]
  },
  {
   "cell_type": "code",
   "execution_count": 96,
   "id": "b76b8104",
   "metadata": {},
   "outputs": [
    {
     "data": {
      "text/plain": [
       "(149, 19, 108, 13, 120, 15)"
      ]
     },
     "execution_count": 96,
     "metadata": {},
     "output_type": "execute_result"
    }
   ],
   "source": [
    "# scripted = 5,255"
   ]
  },
  {
   "cell_type": "code",
   "execution_count": 75,
   "id": "94e4b0eb",
   "metadata": {},
   "outputs": [
    {
     "data": {
      "text/plain": [
       "19"
      ]
     },
     "execution_count": 75,
     "metadata": {},
     "output_type": "execute_result"
    }
   ],
   "source": [
    "187-(149+19)"
   ]
  },
  {
   "cell_type": "code",
   "execution_count": 39,
   "id": "cac0afb1",
   "metadata": {},
   "outputs": [
    {
     "data": {
      "text/html": [
       "<div>\n",
       "<style scoped>\n",
       "    .dataframe tbody tr th:only-of-type {\n",
       "        vertical-align: middle;\n",
       "    }\n",
       "\n",
       "    .dataframe tbody tr th {\n",
       "        vertical-align: top;\n",
       "    }\n",
       "\n",
       "    .dataframe thead th {\n",
       "        text-align: right;\n",
       "    }\n",
       "</style>\n",
       "<table border=\"1\" class=\"dataframe\">\n",
       "  <thead>\n",
       "    <tr style=\"text-align: right;\">\n",
       "      <th></th>\n",
       "      <th>utt_id</th>\n",
       "      <th>EDA</th>\n",
       "      <th>filename</th>\n",
       "      <th>session_number</th>\n",
       "      <th>speaker</th>\n",
       "      <th>start</th>\n",
       "      <th>end</th>\n",
       "      <th>utterance</th>\n",
       "      <th>original_order</th>\n",
       "    </tr>\n",
       "  </thead>\n",
       "  <tbody>\n",
       "    <tr>\n",
       "      <th>99</th>\n",
       "      <td>0</td>\n",
       "      <td>sd</td>\n",
       "      <td>Ses01M_script01_3</td>\n",
       "      <td>1</td>\n",
       "      <td>F</td>\n",
       "      <td>8.2904</td>\n",
       "      <td>11.9425</td>\n",
       "      <td>The only one I know still love his parents.</td>\n",
       "      <td>0</td>\n",
       "    </tr>\n",
       "    <tr>\n",
       "      <th>100</th>\n",
       "      <td>0</td>\n",
       "      <td>qy</td>\n",
       "      <td>Ses01M_script01_3</td>\n",
       "      <td>1</td>\n",
       "      <td>M</td>\n",
       "      <td>11.8600</td>\n",
       "      <td>15.1286</td>\n",
       "      <td>Yeah, that kind of went out of style didn't it?</td>\n",
       "      <td>1</td>\n",
       "    </tr>\n",
       "    <tr>\n",
       "      <th>101</th>\n",
       "      <td>1</td>\n",
       "      <td>sv</td>\n",
       "      <td>Ses01M_script01_3</td>\n",
       "      <td>1</td>\n",
       "      <td>F</td>\n",
       "      <td>14.5812</td>\n",
       "      <td>20.0400</td>\n",
       "      <td>Oh it's not bad thing it's good thing.</td>\n",
       "      <td>2</td>\n",
       "    </tr>\n",
       "    <tr>\n",
       "      <th>102</th>\n",
       "      <td>2</td>\n",
       "      <td>sv</td>\n",
       "      <td>Ses01M_script01_3</td>\n",
       "      <td>1</td>\n",
       "      <td>F</td>\n",
       "      <td>20.7769</td>\n",
       "      <td>27.6000</td>\n",
       "      <td>You know it's nice here, the air is sweet.</td>\n",
       "      <td>3</td>\n",
       "    </tr>\n",
       "    <tr>\n",
       "      <th>103</th>\n",
       "      <td>1</td>\n",
       "      <td>qy</td>\n",
       "      <td>Ses01M_script01_3</td>\n",
       "      <td>1</td>\n",
       "      <td>M</td>\n",
       "      <td>28.1000</td>\n",
       "      <td>30.5850</td>\n",
       "      <td>You're not sorry you came?</td>\n",
       "      <td>4</td>\n",
       "    </tr>\n",
       "    <tr>\n",
       "      <th>...</th>\n",
       "      <td>...</td>\n",
       "      <td>...</td>\n",
       "      <td>...</td>\n",
       "      <td>...</td>\n",
       "      <td>...</td>\n",
       "      <td>...</td>\n",
       "      <td>...</td>\n",
       "      <td>...</td>\n",
       "      <td>...</td>\n",
       "    </tr>\n",
       "    <tr>\n",
       "      <th>8907</th>\n",
       "      <td>36</td>\n",
       "      <td>qy</td>\n",
       "      <td>Ses05M_script01_1b</td>\n",
       "      <td>5</td>\n",
       "      <td>F</td>\n",
       "      <td>365.5200</td>\n",
       "      <td>367.8500</td>\n",
       "      <td>Don't think like that, do you hear me?</td>\n",
       "      <td>76</td>\n",
       "    </tr>\n",
       "    <tr>\n",
       "      <th>8908</th>\n",
       "      <td>40</td>\n",
       "      <td>sd</td>\n",
       "      <td>Ses05M_script01_1b</td>\n",
       "      <td>5</td>\n",
       "      <td>M</td>\n",
       "      <td>367.0300</td>\n",
       "      <td>369.6377</td>\n",
       "      <td>Well, I am thinking like that.</td>\n",
       "      <td>77</td>\n",
       "    </tr>\n",
       "    <tr>\n",
       "      <th>8909</th>\n",
       "      <td>37</td>\n",
       "      <td>qy</td>\n",
       "      <td>Ses05M_script01_1b</td>\n",
       "      <td>5</td>\n",
       "      <td>F</td>\n",
       "      <td>370.8700</td>\n",
       "      <td>373.0100</td>\n",
       "      <td>I don't understand you, do I?</td>\n",
       "      <td>78</td>\n",
       "    </tr>\n",
       "    <tr>\n",
       "      <th>8910</th>\n",
       "      <td>41</td>\n",
       "      <td>sv</td>\n",
       "      <td>Ses05M_script01_1b</td>\n",
       "      <td>5</td>\n",
       "      <td>M</td>\n",
       "      <td>372.5900</td>\n",
       "      <td>377.3700</td>\n",
       "      <td>No, you don't.  I'm a pretty tough guy.</td>\n",
       "      <td>79</td>\n",
       "    </tr>\n",
       "    <tr>\n",
       "      <th>8911</th>\n",
       "      <td>38</td>\n",
       "      <td>xx</td>\n",
       "      <td>Ses05M_script01_1b</td>\n",
       "      <td>5</td>\n",
       "      <td>F</td>\n",
       "      <td>377.1300</td>\n",
       "      <td>379.7800</td>\n",
       "      <td>Yeah, I can see that.</td>\n",
       "      <td>80</td>\n",
       "    </tr>\n",
       "  </tbody>\n",
       "</table>\n",
       "<p>1065 rows × 9 columns</p>\n",
       "</div>"
      ],
      "text/plain": [
       "      utt_id EDA            filename  session_number speaker     start  \\\n",
       "99         0  sd   Ses01M_script01_3               1       F    8.2904   \n",
       "100        0  qy   Ses01M_script01_3               1       M   11.8600   \n",
       "101        1  sv   Ses01M_script01_3               1       F   14.5812   \n",
       "102        2  sv   Ses01M_script01_3               1       F   20.7769   \n",
       "103        1  qy   Ses01M_script01_3               1       M   28.1000   \n",
       "...      ...  ..                 ...             ...     ...       ...   \n",
       "8907      36  qy  Ses05M_script01_1b               5       F  365.5200   \n",
       "8908      40  sd  Ses05M_script01_1b               5       M  367.0300   \n",
       "8909      37  qy  Ses05M_script01_1b               5       F  370.8700   \n",
       "8910      41  sv  Ses05M_script01_1b               5       M  372.5900   \n",
       "8911      38  xx  Ses05M_script01_1b               5       F  377.1300   \n",
       "\n",
       "           end                                        utterance  \\\n",
       "99     11.9425      The only one I know still love his parents.   \n",
       "100    15.1286  Yeah, that kind of went out of style didn't it?   \n",
       "101    20.0400           Oh it's not bad thing it's good thing.   \n",
       "102    27.6000       You know it's nice here, the air is sweet.   \n",
       "103    30.5850                       You're not sorry you came?   \n",
       "...        ...                                              ...   \n",
       "8907  367.8500           Don't think like that, do you hear me?   \n",
       "8908  369.6377                   Well, I am thinking like that.   \n",
       "8909  373.0100                    I don't understand you, do I?   \n",
       "8910  377.3700          No, you don't.  I'm a pretty tough guy.   \n",
       "8911  379.7800                            Yeah, I can see that.   \n",
       "\n",
       "      original_order  \n",
       "99                 0  \n",
       "100                1  \n",
       "101                2  \n",
       "102                3  \n",
       "103                4  \n",
       "...              ...  \n",
       "8907              76  \n",
       "8908              77  \n",
       "8909              78  \n",
       "8910              79  \n",
       "8911              80  \n",
       "\n",
       "[1065 rows x 9 columns]"
      ]
     },
     "execution_count": 39,
     "metadata": {},
     "output_type": "execute_result"
    }
   ],
   "source": [
    "df_scripted[df_scripted[\"filename\"].str.contains(\"M_script01\")]"
   ]
  },
  {
   "cell_type": "code",
   "execution_count": null,
   "id": "1db7aecf",
   "metadata": {},
   "outputs": [],
   "source": [
    "df_train_scripted = final_df[final_df[\"filename\"].str.contains(\"script01\")]\n",
    "script_data_script_1_F"
   ]
  },
  {
   "cell_type": "code",
   "execution_count": 34,
   "id": "fc637f17",
   "metadata": {},
   "outputs": [
    {
     "data": {
      "text/html": [
       "<div>\n",
       "<style scoped>\n",
       "    .dataframe tbody tr th:only-of-type {\n",
       "        vertical-align: middle;\n",
       "    }\n",
       "\n",
       "    .dataframe tbody tr th {\n",
       "        vertical-align: top;\n",
       "    }\n",
       "\n",
       "    .dataframe thead th {\n",
       "        text-align: right;\n",
       "    }\n",
       "</style>\n",
       "<table border=\"1\" class=\"dataframe\">\n",
       "  <thead>\n",
       "    <tr style=\"text-align: right;\">\n",
       "      <th></th>\n",
       "      <th>utt_id</th>\n",
       "      <th>EDA</th>\n",
       "      <th>filename</th>\n",
       "      <th>session_number</th>\n",
       "      <th>speaker</th>\n",
       "      <th>start</th>\n",
       "      <th>end</th>\n",
       "      <th>utterance</th>\n",
       "      <th>original_order</th>\n",
       "    </tr>\n",
       "  </thead>\n",
       "  <tbody>\n",
       "    <tr>\n",
       "      <th>365</th>\n",
       "      <td>0</td>\n",
       "      <td>qw</td>\n",
       "      <td>Ses01F_script01_1</td>\n",
       "      <td>1</td>\n",
       "      <td>F</td>\n",
       "      <td>6.2100</td>\n",
       "      <td>9.3200</td>\n",
       "      <td>What's he going to say?</td>\n",
       "      <td>0</td>\n",
       "    </tr>\n",
       "    <tr>\n",
       "      <th>366</th>\n",
       "      <td>1</td>\n",
       "      <td>sv</td>\n",
       "      <td>Ses01F_script01_1</td>\n",
       "      <td>1</td>\n",
       "      <td>F</td>\n",
       "      <td>9.3500</td>\n",
       "      <td>12.8955</td>\n",
       "      <td>Maybe we should tell him before he sees it.</td>\n",
       "      <td>1</td>\n",
       "    </tr>\n",
       "    <tr>\n",
       "      <th>367</th>\n",
       "      <td>0</td>\n",
       "      <td>sd</td>\n",
       "      <td>Ses01F_script01_1</td>\n",
       "      <td>1</td>\n",
       "      <td>M</td>\n",
       "      <td>11.9892</td>\n",
       "      <td>15.1219</td>\n",
       "      <td>He saw it.</td>\n",
       "      <td>2</td>\n",
       "    </tr>\n",
       "    <tr>\n",
       "      <th>368</th>\n",
       "      <td>2</td>\n",
       "      <td>sd</td>\n",
       "      <td>Ses01F_script01_1</td>\n",
       "      <td>1</td>\n",
       "      <td>F</td>\n",
       "      <td>14.3063</td>\n",
       "      <td>19.5526</td>\n",
       "      <td>How could he see it?  I was the first one up; ...</td>\n",
       "      <td>3</td>\n",
       "    </tr>\n",
       "    <tr>\n",
       "      <th>369</th>\n",
       "      <td>1</td>\n",
       "      <td>sd</td>\n",
       "      <td>Ses01F_script01_1</td>\n",
       "      <td>1</td>\n",
       "      <td>M</td>\n",
       "      <td>19.0456</td>\n",
       "      <td>22.3962</td>\n",
       "      <td>He was out here when it broke.</td>\n",
       "      <td>4</td>\n",
       "    </tr>\n",
       "    <tr>\n",
       "      <th>...</th>\n",
       "      <td>...</td>\n",
       "      <td>...</td>\n",
       "      <td>...</td>\n",
       "      <td>...</td>\n",
       "      <td>...</td>\n",
       "      <td>...</td>\n",
       "      <td>...</td>\n",
       "      <td>...</td>\n",
       "      <td>...</td>\n",
       "    </tr>\n",
       "    <tr>\n",
       "      <th>1177</th>\n",
       "      <td>37</td>\n",
       "      <td>sd</td>\n",
       "      <td>Ses01F_script01_3</td>\n",
       "      <td>1</td>\n",
       "      <td>M</td>\n",
       "      <td>419.4437</td>\n",
       "      <td>422.5035</td>\n",
       "      <td>I just want you to know Annie.</td>\n",
       "      <td>71</td>\n",
       "    </tr>\n",
       "    <tr>\n",
       "      <th>1178</th>\n",
       "      <td>33</td>\n",
       "      <td>sv</td>\n",
       "      <td>Ses01F_script01_3</td>\n",
       "      <td>1</td>\n",
       "      <td>F</td>\n",
       "      <td>422.4670</td>\n",
       "      <td>432.4477</td>\n",
       "      <td>Because you mustn't feel that way.  Everything...</td>\n",
       "      <td>72</td>\n",
       "    </tr>\n",
       "    <tr>\n",
       "      <th>1179</th>\n",
       "      <td>34</td>\n",
       "      <td>sv</td>\n",
       "      <td>Ses01F_script01_3</td>\n",
       "      <td>1</td>\n",
       "      <td>F</td>\n",
       "      <td>432.5570</td>\n",
       "      <td>450.4700</td>\n",
       "      <td>Even me.  And your money?  Chris, there's noth...</td>\n",
       "      <td>73</td>\n",
       "    </tr>\n",
       "    <tr>\n",
       "      <th>1180</th>\n",
       "      <td>38</td>\n",
       "      <td>sd</td>\n",
       "      <td>Ses01F_script01_3</td>\n",
       "      <td>1</td>\n",
       "      <td>M</td>\n",
       "      <td>451.0400</td>\n",
       "      <td>460.2800</td>\n",
       "      <td>Annie, Annie.  I am going to make a fortune fo...</td>\n",
       "      <td>74</td>\n",
       "    </tr>\n",
       "    <tr>\n",
       "      <th>1181</th>\n",
       "      <td>35</td>\n",
       "      <td>qw</td>\n",
       "      <td>Ses01F_script01_3</td>\n",
       "      <td>1</td>\n",
       "      <td>F</td>\n",
       "      <td>459.5700</td>\n",
       "      <td>463.0600</td>\n",
       "      <td>What would I do with a fortune?</td>\n",
       "      <td>75</td>\n",
       "    </tr>\n",
       "  </tbody>\n",
       "</table>\n",
       "<p>197 rows × 9 columns</p>\n",
       "</div>"
      ],
      "text/plain": [
       "      utt_id EDA           filename  session_number speaker     start  \\\n",
       "365        0  qw  Ses01F_script01_1               1       F    6.2100   \n",
       "366        1  sv  Ses01F_script01_1               1       F    9.3500   \n",
       "367        0  sd  Ses01F_script01_1               1       M   11.9892   \n",
       "368        2  sd  Ses01F_script01_1               1       F   14.3063   \n",
       "369        1  sd  Ses01F_script01_1               1       M   19.0456   \n",
       "...      ...  ..                ...             ...     ...       ...   \n",
       "1177      37  sd  Ses01F_script01_3               1       M  419.4437   \n",
       "1178      33  sv  Ses01F_script01_3               1       F  422.4670   \n",
       "1179      34  sv  Ses01F_script01_3               1       F  432.5570   \n",
       "1180      38  sd  Ses01F_script01_3               1       M  451.0400   \n",
       "1181      35  qw  Ses01F_script01_3               1       F  459.5700   \n",
       "\n",
       "           end                                          utterance  \\\n",
       "365     9.3200                            What's he going to say?   \n",
       "366    12.8955        Maybe we should tell him before he sees it.   \n",
       "367    15.1219                                         He saw it.   \n",
       "368    19.5526  How could he see it?  I was the first one up; ...   \n",
       "369    22.3962                     He was out here when it broke.   \n",
       "...        ...                                                ...   \n",
       "1177  422.5035                     I just want you to know Annie.   \n",
       "1178  432.4477  Because you mustn't feel that way.  Everything...   \n",
       "1179  450.4700  Even me.  And your money?  Chris, there's noth...   \n",
       "1180  460.2800  Annie, Annie.  I am going to make a fortune fo...   \n",
       "1181  463.0600                    What would I do with a fortune?   \n",
       "\n",
       "      original_order  \n",
       "365                0  \n",
       "366                1  \n",
       "367                2  \n",
       "368                3  \n",
       "369                4  \n",
       "...              ...  \n",
       "1177              71  \n",
       "1178              72  \n",
       "1179              73  \n",
       "1180              74  \n",
       "1181              75  \n",
       "\n",
       "[197 rows x 9 columns]"
      ]
     },
     "execution_count": 34,
     "metadata": {},
     "output_type": "execute_result"
    }
   ],
   "source": [
    "script_data_script_1_F = final_df[(final_df[\"filename\"].str.contains(\"F_script01\")) & (final_df[\"session_number\"] == 1)]\n",
    "script_data_script_1_F"
   ]
  },
  {
   "cell_type": "code",
   "execution_count": 35,
   "id": "df758fe5",
   "metadata": {},
   "outputs": [
    {
     "data": {
      "text/html": [
       "<div>\n",
       "<style scoped>\n",
       "    .dataframe tbody tr th:only-of-type {\n",
       "        vertical-align: middle;\n",
       "    }\n",
       "\n",
       "    .dataframe tbody tr th {\n",
       "        vertical-align: top;\n",
       "    }\n",
       "\n",
       "    .dataframe thead th {\n",
       "        text-align: right;\n",
       "    }\n",
       "</style>\n",
       "<table border=\"1\" class=\"dataframe\">\n",
       "  <thead>\n",
       "    <tr style=\"text-align: right;\">\n",
       "      <th></th>\n",
       "      <th>utt_id</th>\n",
       "      <th>EDA</th>\n",
       "      <th>filename</th>\n",
       "      <th>session_number</th>\n",
       "      <th>speaker</th>\n",
       "      <th>start</th>\n",
       "      <th>end</th>\n",
       "      <th>utterance</th>\n",
       "      <th>original_order</th>\n",
       "    </tr>\n",
       "  </thead>\n",
       "  <tbody>\n",
       "    <tr>\n",
       "      <th>1880</th>\n",
       "      <td>0</td>\n",
       "      <td>qw</td>\n",
       "      <td>Ses02F_script01_2</td>\n",
       "      <td>2</td>\n",
       "      <td>F</td>\n",
       "      <td>5.84</td>\n",
       "      <td>8.12</td>\n",
       "      <td>Why did he invite her here?</td>\n",
       "      <td>0</td>\n",
       "    </tr>\n",
       "    <tr>\n",
       "      <th>1881</th>\n",
       "      <td>0</td>\n",
       "      <td>qw</td>\n",
       "      <td>Ses02F_script01_2</td>\n",
       "      <td>2</td>\n",
       "      <td>M</td>\n",
       "      <td>8.08</td>\n",
       "      <td>9.72</td>\n",
       "      <td>Why does that bother you?</td>\n",
       "      <td>1</td>\n",
       "    </tr>\n",
       "    <tr>\n",
       "      <th>1882</th>\n",
       "      <td>1</td>\n",
       "      <td>sd</td>\n",
       "      <td>Ses02F_script01_2</td>\n",
       "      <td>2</td>\n",
       "      <td>F</td>\n",
       "      <td>9.30</td>\n",
       "      <td>13.51</td>\n",
       "      <td>She's been in New York for three and half year...</td>\n",
       "      <td>2</td>\n",
       "    </tr>\n",
       "    <tr>\n",
       "      <th>1883</th>\n",
       "      <td>1</td>\n",
       "      <td>sd</td>\n",
       "      <td>Ses02F_script01_2</td>\n",
       "      <td>2</td>\n",
       "      <td>M</td>\n",
       "      <td>12.53</td>\n",
       "      <td>15.66</td>\n",
       "      <td>Well, maybe he just wanted to see her again.</td>\n",
       "      <td>3</td>\n",
       "    </tr>\n",
       "    <tr>\n",
       "      <th>1884</th>\n",
       "      <td>2</td>\n",
       "      <td>sd</td>\n",
       "      <td>Ses02F_script01_2</td>\n",
       "      <td>2</td>\n",
       "      <td>F</td>\n",
       "      <td>14.96</td>\n",
       "      <td>18.76</td>\n",
       "      <td>Nobody comes seven hundred miles just to see.</td>\n",
       "      <td>4</td>\n",
       "    </tr>\n",
       "    <tr>\n",
       "      <th>...</th>\n",
       "      <td>...</td>\n",
       "      <td>...</td>\n",
       "      <td>...</td>\n",
       "      <td>...</td>\n",
       "      <td>...</td>\n",
       "      <td>...</td>\n",
       "      <td>...</td>\n",
       "      <td>...</td>\n",
       "      <td>...</td>\n",
       "    </tr>\n",
       "    <tr>\n",
       "      <th>3468</th>\n",
       "      <td>35</td>\n",
       "      <td>sd</td>\n",
       "      <td>Ses02F_script01_3</td>\n",
       "      <td>2</td>\n",
       "      <td>M</td>\n",
       "      <td>334.61</td>\n",
       "      <td>336.60</td>\n",
       "      <td>I want you now Annie.</td>\n",
       "      <td>63</td>\n",
       "    </tr>\n",
       "    <tr>\n",
       "      <th>3469</th>\n",
       "      <td>27</td>\n",
       "      <td>sv</td>\n",
       "      <td>Ses02F_script01_3</td>\n",
       "      <td>2</td>\n",
       "      <td>F</td>\n",
       "      <td>336.91</td>\n",
       "      <td>344.54</td>\n",
       "      <td>'Cause you mustn't feel that way.  Because you...</td>\n",
       "      <td>64</td>\n",
       "    </tr>\n",
       "    <tr>\n",
       "      <th>3470</th>\n",
       "      <td>28</td>\n",
       "      <td>sv</td>\n",
       "      <td>Ses02F_script01_3</td>\n",
       "      <td>2</td>\n",
       "      <td>F</td>\n",
       "      <td>344.60</td>\n",
       "      <td>353.22</td>\n",
       "      <td>I mean, and your money, there's nothing wrong ...</td>\n",
       "      <td>65</td>\n",
       "    </tr>\n",
       "    <tr>\n",
       "      <th>3471</th>\n",
       "      <td>36</td>\n",
       "      <td>sd</td>\n",
       "      <td>Ses02F_script01_3</td>\n",
       "      <td>2</td>\n",
       "      <td>M</td>\n",
       "      <td>353.64</td>\n",
       "      <td>357.87</td>\n",
       "      <td>I know Annie.  Annie, I'm gonna make a fortune...</td>\n",
       "      <td>66</td>\n",
       "    </tr>\n",
       "    <tr>\n",
       "      <th>3472</th>\n",
       "      <td>29</td>\n",
       "      <td>qw</td>\n",
       "      <td>Ses02F_script01_3</td>\n",
       "      <td>2</td>\n",
       "      <td>F</td>\n",
       "      <td>357.69</td>\n",
       "      <td>360.06</td>\n",
       "      <td>What'll I do with a fortune?</td>\n",
       "      <td>67</td>\n",
       "    </tr>\n",
       "  </tbody>\n",
       "</table>\n",
       "<p>195 rows × 9 columns</p>\n",
       "</div>"
      ],
      "text/plain": [
       "      utt_id EDA           filename  session_number speaker   start     end  \\\n",
       "1880       0  qw  Ses02F_script01_2               2       F    5.84    8.12   \n",
       "1881       0  qw  Ses02F_script01_2               2       M    8.08    9.72   \n",
       "1882       1  sd  Ses02F_script01_2               2       F    9.30   13.51   \n",
       "1883       1  sd  Ses02F_script01_2               2       M   12.53   15.66   \n",
       "1884       2  sd  Ses02F_script01_2               2       F   14.96   18.76   \n",
       "...      ...  ..                ...             ...     ...     ...     ...   \n",
       "3468      35  sd  Ses02F_script01_3               2       M  334.61  336.60   \n",
       "3469      27  sv  Ses02F_script01_3               2       F  336.91  344.54   \n",
       "3470      28  sv  Ses02F_script01_3               2       F  344.60  353.22   \n",
       "3471      36  sd  Ses02F_script01_3               2       M  353.64  357.87   \n",
       "3472      29  qw  Ses02F_script01_3               2       F  357.69  360.06   \n",
       "\n",
       "                                              utterance  original_order  \n",
       "1880                        Why did he invite her here?               0  \n",
       "1881                          Why does that bother you?               1  \n",
       "1882  She's been in New York for three and half year...               2  \n",
       "1883       Well, maybe he just wanted to see her again.               3  \n",
       "1884      Nobody comes seven hundred miles just to see.               4  \n",
       "...                                                 ...             ...  \n",
       "3468                              I want you now Annie.              63  \n",
       "3469  'Cause you mustn't feel that way.  Because you...              64  \n",
       "3470  I mean, and your money, there's nothing wrong ...              65  \n",
       "3471  I know Annie.  Annie, I'm gonna make a fortune...              66  \n",
       "3472                       What'll I do with a fortune?              67  \n",
       "\n",
       "[195 rows x 9 columns]"
      ]
     },
     "execution_count": 35,
     "metadata": {},
     "output_type": "execute_result"
    }
   ],
   "source": [
    "script_data_script_1_F = final_df[(final_df[\"filename\"].str.contains(\"F_script01\")) & (final_df[\"session_number\"] == 2)]\n",
    "script_data_script_1_F"
   ]
  },
  {
   "cell_type": "code",
   "execution_count": 33,
   "id": "347f44dc",
   "metadata": {},
   "outputs": [
    {
     "data": {
      "text/html": [
       "<div>\n",
       "<style scoped>\n",
       "    .dataframe tbody tr th:only-of-type {\n",
       "        vertical-align: middle;\n",
       "    }\n",
       "\n",
       "    .dataframe tbody tr th {\n",
       "        vertical-align: top;\n",
       "    }\n",
       "\n",
       "    .dataframe thead th {\n",
       "        text-align: right;\n",
       "    }\n",
       "</style>\n",
       "<table border=\"1\" class=\"dataframe\">\n",
       "  <thead>\n",
       "    <tr style=\"text-align: right;\">\n",
       "      <th></th>\n",
       "      <th>utt_id</th>\n",
       "      <th>EDA</th>\n",
       "      <th>filename</th>\n",
       "      <th>session_number</th>\n",
       "      <th>speaker</th>\n",
       "      <th>start</th>\n",
       "      <th>end</th>\n",
       "      <th>utterance</th>\n",
       "      <th>original_order</th>\n",
       "    </tr>\n",
       "  </thead>\n",
       "  <tbody>\n",
       "    <tr>\n",
       "      <th>7999</th>\n",
       "      <td>0</td>\n",
       "      <td>qw</td>\n",
       "      <td>Ses05M_script01_2</td>\n",
       "      <td>5</td>\n",
       "      <td>F</td>\n",
       "      <td>4.9869</td>\n",
       "      <td>8.24</td>\n",
       "      <td>Why did you invite her here?</td>\n",
       "      <td>0</td>\n",
       "    </tr>\n",
       "    <tr>\n",
       "      <th>8393</th>\n",
       "      <td>0</td>\n",
       "      <td>sd</td>\n",
       "      <td>Ses05M_script01_3</td>\n",
       "      <td>5</td>\n",
       "      <td>F</td>\n",
       "      <td>3.3400</td>\n",
       "      <td>6.29</td>\n",
       "      <td>You're the only one I know who loves his parents.</td>\n",
       "      <td>0</td>\n",
       "    </tr>\n",
       "    <tr>\n",
       "      <th>8545</th>\n",
       "      <td>0</td>\n",
       "      <td>qh</td>\n",
       "      <td>Ses05M_script01_1</td>\n",
       "      <td>5</td>\n",
       "      <td>F</td>\n",
       "      <td>6.0700</td>\n",
       "      <td>10.29</td>\n",
       "      <td>What's he going to say?  Maybe we should tell ...</td>\n",
       "      <td>0</td>\n",
       "    </tr>\n",
       "    <tr>\n",
       "      <th>8831</th>\n",
       "      <td>0</td>\n",
       "      <td>xx</td>\n",
       "      <td>Ses05M_script01_1b</td>\n",
       "      <td>5</td>\n",
       "      <td>F</td>\n",
       "      <td>3.1063</td>\n",
       "      <td>8.86</td>\n",
       "      <td>What's he going to say?  Maybe we ought to tel...</td>\n",
       "      <td>0</td>\n",
       "    </tr>\n",
       "  </tbody>\n",
       "</table>\n",
       "</div>"
      ],
      "text/plain": [
       "      utt_id EDA            filename  session_number speaker   start    end  \\\n",
       "7999       0  qw   Ses05M_script01_2               5       F  4.9869   8.24   \n",
       "8393       0  sd   Ses05M_script01_3               5       F  3.3400   6.29   \n",
       "8545       0  qh   Ses05M_script01_1               5       F  6.0700  10.29   \n",
       "8831       0  xx  Ses05M_script01_1b               5       F  3.1063   8.86   \n",
       "\n",
       "                                              utterance  original_order  \n",
       "7999                       Why did you invite her here?               0  \n",
       "8393  You're the only one I know who loves his parents.               0  \n",
       "8545  What's he going to say?  Maybe we should tell ...               0  \n",
       "8831  What's he going to say?  Maybe we ought to tel...               0  "
      ]
     },
     "execution_count": 33,
     "metadata": {},
     "output_type": "execute_result"
    }
   ],
   "source": [
    "script_data_script_1_M = final_df[(final_df[\"filename\"].str.contains(\"M_script01\")) & (final_df[\"session_number\"] == 5) & (final_df[\"original_order\"] == 0)]\n",
    "script_data_script_1_M\n",
    "# improv_data = final_df[final_df[\"filename\"].str.contains(\"impro\")]\n",
    "\n",
    "# len(script_data), len(improv_data), len(script_data)+len(improv_data)"
   ]
  },
  {
   "cell_type": "markdown",
   "id": "514ed5a7",
   "metadata": {},
   "source": [
    "# Clipping videos"
   ]
  },
  {
   "cell_type": "code",
   "execution_count": 1,
   "id": "7a144e64",
   "metadata": {},
   "outputs": [],
   "source": [
    "import os\n",
    "import pandas as pd\n",
    "import re\n",
    "from moviepy.editor import VideoFileClip, concatenate_videoclips"
   ]
  },
  {
   "cell_type": "code",
   "execution_count": 2,
   "id": "e4bb6fc6",
   "metadata": {},
   "outputs": [
    {
     "name": "stdout",
     "output_type": "stream",
     "text": [
      "Moviepy - Building video Ses01F_impro03_0.mp4.\n",
      "MoviePy - Writing audio in Ses01F_impro03_0TEMP_MPY_wvf_snd.mp3\n"
     ]
    },
    {
     "name": "stderr",
     "output_type": "stream",
     "text": [
      "                                                       \r"
     ]
    },
    {
     "name": "stdout",
     "output_type": "stream",
     "text": [
      "MoviePy - Done.\n",
      "Moviepy - Writing video Ses01F_impro03_0.mp4\n",
      "\n"
     ]
    },
    {
     "name": "stderr",
     "output_type": "stream",
     "text": [
      "                                                   "
     ]
    },
    {
     "name": "stdout",
     "output_type": "stream",
     "text": [
      "Moviepy - Done !\n",
      "Moviepy - video ready Ses01F_impro03_0.mp4\n"
     ]
    },
    {
     "name": "stderr",
     "output_type": "stream",
     "text": [
      "\r"
     ]
    },
    {
     "name": "stdout",
     "output_type": "stream",
     "text": [
      "Moviepy - Building video Ses01F_impro03_1.mp4.\n",
      "MoviePy - Writing audio in Ses01F_impro03_1TEMP_MPY_wvf_snd.mp3\n"
     ]
    },
    {
     "name": "stderr",
     "output_type": "stream",
     "text": [
      "                                                       \r"
     ]
    },
    {
     "name": "stdout",
     "output_type": "stream",
     "text": [
      "MoviePy - Done.\n",
      "Moviepy - Writing video Ses01F_impro03_1.mp4\n",
      "\n"
     ]
    },
    {
     "name": "stderr",
     "output_type": "stream",
     "text": [
      "                                                             \r"
     ]
    },
    {
     "name": "stdout",
     "output_type": "stream",
     "text": [
      "Moviepy - Done !\n",
      "Moviepy - video ready Ses01F_impro03_1.mp4\n",
      "Moviepy - Building video Ses01F_impro03_2.mp4.\n",
      "MoviePy - Writing audio in Ses01F_impro03_2TEMP_MPY_wvf_snd.mp3\n"
     ]
    },
    {
     "name": "stderr",
     "output_type": "stream",
     "text": [
      "                                                       \r"
     ]
    },
    {
     "name": "stdout",
     "output_type": "stream",
     "text": [
      "MoviePy - Done.\n",
      "Moviepy - Writing video Ses01F_impro03_2.mp4\n",
      "\n"
     ]
    },
    {
     "name": "stderr",
     "output_type": "stream",
     "text": [
      "                                                   "
     ]
    },
    {
     "name": "stdout",
     "output_type": "stream",
     "text": [
      "Moviepy - Done !\n",
      "Moviepy - video ready Ses01F_impro03_2.mp4\n"
     ]
    },
    {
     "name": "stderr",
     "output_type": "stream",
     "text": [
      "\r"
     ]
    },
    {
     "name": "stdout",
     "output_type": "stream",
     "text": [
      "Moviepy - Building video Ses01F_impro03_3.mp4.\n",
      "MoviePy - Writing audio in Ses01F_impro03_3TEMP_MPY_wvf_snd.mp3\n"
     ]
    },
    {
     "name": "stderr",
     "output_type": "stream",
     "text": [
      "                                                       \r"
     ]
    },
    {
     "name": "stdout",
     "output_type": "stream",
     "text": [
      "MoviePy - Done.\n",
      "Moviepy - Writing video Ses01F_impro03_3.mp4\n",
      "\n"
     ]
    },
    {
     "name": "stderr",
     "output_type": "stream",
     "text": [
      "                                                              \r"
     ]
    },
    {
     "name": "stdout",
     "output_type": "stream",
     "text": [
      "Moviepy - Done !\n",
      "Moviepy - video ready Ses01F_impro03_3.mp4\n",
      "Moviepy - Building video Ses01F_impro03_4.mp4.\n",
      "MoviePy - Writing audio in Ses01F_impro03_4TEMP_MPY_wvf_snd.mp3\n"
     ]
    },
    {
     "name": "stderr",
     "output_type": "stream",
     "text": [
      "                                                       \r"
     ]
    },
    {
     "name": "stdout",
     "output_type": "stream",
     "text": [
      "MoviePy - Done.\n",
      "Moviepy - Writing video Ses01F_impro03_4.mp4\n",
      "\n"
     ]
    },
    {
     "name": "stderr",
     "output_type": "stream",
     "text": [
      "                                                              \r"
     ]
    },
    {
     "name": "stdout",
     "output_type": "stream",
     "text": [
      "Moviepy - Done !\n",
      "Moviepy - video ready Ses01F_impro03_4.mp4\n",
      "Moviepy - Building video Ses01F_impro03_5.mp4.\n",
      "MoviePy - Writing audio in Ses01F_impro03_5TEMP_MPY_wvf_snd.mp3\n"
     ]
    },
    {
     "name": "stderr",
     "output_type": "stream",
     "text": [
      "                                                       \r"
     ]
    },
    {
     "name": "stdout",
     "output_type": "stream",
     "text": [
      "MoviePy - Done.\n",
      "Moviepy - Writing video Ses01F_impro03_5.mp4\n",
      "\n"
     ]
    },
    {
     "name": "stderr",
     "output_type": "stream",
     "text": [
      "                                                   \r"
     ]
    },
    {
     "name": "stdout",
     "output_type": "stream",
     "text": [
      "Moviepy - Done !\n",
      "Moviepy - video ready Ses01F_impro03_5.mp4\n",
      "Moviepy - Building video Ses01F_impro03_6.mp4.\n",
      "MoviePy - Writing audio in Ses01F_impro03_6TEMP_MPY_wvf_snd.mp3\n"
     ]
    },
    {
     "name": "stderr",
     "output_type": "stream",
     "text": [
      "                                                       \r"
     ]
    },
    {
     "name": "stdout",
     "output_type": "stream",
     "text": [
      "MoviePy - Done.\n",
      "Moviepy - Writing video Ses01F_impro03_6.mp4\n",
      "\n"
     ]
    },
    {
     "name": "stderr",
     "output_type": "stream",
     "text": [
      "                                                              \r"
     ]
    },
    {
     "name": "stdout",
     "output_type": "stream",
     "text": [
      "Moviepy - Done !\n",
      "Moviepy - video ready Ses01F_impro03_6.mp4\n",
      "Moviepy - Building video Ses01F_impro03_7.mp4.\n",
      "MoviePy - Writing audio in Ses01F_impro03_7TEMP_MPY_wvf_snd.mp3\n"
     ]
    },
    {
     "name": "stderr",
     "output_type": "stream",
     "text": [
      "                                                        \r"
     ]
    },
    {
     "name": "stdout",
     "output_type": "stream",
     "text": [
      "MoviePy - Done.\n",
      "Moviepy - Writing video Ses01F_impro03_7.mp4\n",
      "\n"
     ]
    },
    {
     "name": "stderr",
     "output_type": "stream",
     "text": [
      "                                                              \r"
     ]
    },
    {
     "name": "stdout",
     "output_type": "stream",
     "text": [
      "Moviepy - Done !\n",
      "Moviepy - video ready Ses01F_impro03_7.mp4\n",
      "Moviepy - Building video Ses01F_impro03_8.mp4.\n",
      "MoviePy - Writing audio in Ses01F_impro03_8TEMP_MPY_wvf_snd.mp3\n"
     ]
    },
    {
     "name": "stderr",
     "output_type": "stream",
     "text": [
      "                                                       \r"
     ]
    },
    {
     "name": "stdout",
     "output_type": "stream",
     "text": [
      "MoviePy - Done.\n",
      "Moviepy - Writing video Ses01F_impro03_8.mp4\n",
      "\n"
     ]
    },
    {
     "name": "stderr",
     "output_type": "stream",
     "text": [
      "                                                   \r"
     ]
    },
    {
     "name": "stdout",
     "output_type": "stream",
     "text": [
      "Moviepy - Done !\n",
      "Moviepy - video ready Ses01F_impro03_8.mp4\n",
      "Moviepy - Building video Ses01F_impro03_9.mp4.\n",
      "MoviePy - Writing audio in Ses01F_impro03_9TEMP_MPY_wvf_snd.mp3\n"
     ]
    },
    {
     "name": "stderr",
     "output_type": "stream",
     "text": [
      "                                                       \r"
     ]
    },
    {
     "name": "stdout",
     "output_type": "stream",
     "text": [
      "MoviePy - Done.\n",
      "Moviepy - Writing video Ses01F_impro03_9.mp4\n",
      "\n"
     ]
    },
    {
     "name": "stderr",
     "output_type": "stream",
     "text": [
      "                                                              \r"
     ]
    },
    {
     "name": "stdout",
     "output_type": "stream",
     "text": [
      "Moviepy - Done !\n",
      "Moviepy - video ready Ses01F_impro03_9.mp4\n",
      "Moviepy - Building video Ses01F_impro03_10.mp4.\n",
      "MoviePy - Writing audio in Ses01F_impro03_10TEMP_MPY_wvf_snd.mp3\n"
     ]
    },
    {
     "name": "stderr",
     "output_type": "stream",
     "text": [
      "                                                       \r"
     ]
    },
    {
     "name": "stdout",
     "output_type": "stream",
     "text": [
      "MoviePy - Done.\n",
      "Moviepy - Writing video Ses01F_impro03_10.mp4\n",
      "\n"
     ]
    },
    {
     "name": "stderr",
     "output_type": "stream",
     "text": [
      "                                                   \r"
     ]
    },
    {
     "name": "stdout",
     "output_type": "stream",
     "text": [
      "Moviepy - Done !\n",
      "Moviepy - video ready Ses01F_impro03_10.mp4\n",
      "Moviepy - Building video Ses01F_impro03_11.mp4.\n",
      "MoviePy - Writing audio in Ses01F_impro03_11TEMP_MPY_wvf_snd.mp3\n"
     ]
    },
    {
     "name": "stderr",
     "output_type": "stream",
     "text": [
      "                                                       \r"
     ]
    },
    {
     "name": "stdout",
     "output_type": "stream",
     "text": [
      "MoviePy - Done.\n",
      "Moviepy - Writing video Ses01F_impro03_11.mp4\n",
      "\n"
     ]
    },
    {
     "name": "stderr",
     "output_type": "stream",
     "text": [
      "                                                   \r"
     ]
    },
    {
     "name": "stdout",
     "output_type": "stream",
     "text": [
      "Moviepy - Done !\n",
      "Moviepy - video ready Ses01F_impro03_11.mp4\n",
      "Moviepy - Building video Ses01F_impro03_12.mp4.\n",
      "MoviePy - Writing audio in Ses01F_impro03_12TEMP_MPY_wvf_snd.mp3\n"
     ]
    },
    {
     "name": "stderr",
     "output_type": "stream",
     "text": [
      "                                                        \r"
     ]
    },
    {
     "name": "stdout",
     "output_type": "stream",
     "text": [
      "MoviePy - Done.\n",
      "Moviepy - Writing video Ses01F_impro03_12.mp4\n",
      "\n"
     ]
    },
    {
     "name": "stderr",
     "output_type": "stream",
     "text": [
      "                                                               \r"
     ]
    },
    {
     "name": "stdout",
     "output_type": "stream",
     "text": [
      "Moviepy - Done !\n",
      "Moviepy - video ready Ses01F_impro03_12.mp4\n",
      "Moviepy - Building video Ses01F_impro03_13.mp4.\n",
      "MoviePy - Writing audio in Ses01F_impro03_13TEMP_MPY_wvf_snd.mp3\n"
     ]
    },
    {
     "name": "stderr",
     "output_type": "stream",
     "text": [
      "                                                       \r"
     ]
    },
    {
     "name": "stdout",
     "output_type": "stream",
     "text": [
      "MoviePy - Done.\n",
      "Moviepy - Writing video Ses01F_impro03_13.mp4\n",
      "\n"
     ]
    },
    {
     "name": "stderr",
     "output_type": "stream",
     "text": [
      "                                                   \r"
     ]
    },
    {
     "name": "stdout",
     "output_type": "stream",
     "text": [
      "Moviepy - Done !\n",
      "Moviepy - video ready Ses01F_impro03_13.mp4\n",
      "Moviepy - Building video Ses01F_impro03_14.mp4.\n",
      "MoviePy - Writing audio in Ses01F_impro03_14TEMP_MPY_wvf_snd.mp3\n"
     ]
    },
    {
     "name": "stderr",
     "output_type": "stream",
     "text": [
      "                                                       \r"
     ]
    },
    {
     "name": "stdout",
     "output_type": "stream",
     "text": [
      "MoviePy - Done.\n",
      "Moviepy - Writing video Ses01F_impro03_14.mp4\n",
      "\n"
     ]
    },
    {
     "name": "stderr",
     "output_type": "stream",
     "text": [
      "                                                              \r"
     ]
    },
    {
     "name": "stdout",
     "output_type": "stream",
     "text": [
      "Moviepy - Done !\n",
      "Moviepy - video ready Ses01F_impro03_14.mp4\n",
      "Moviepy - Building video Ses01F_impro03_15.mp4.\n",
      "MoviePy - Writing audio in Ses01F_impro03_15TEMP_MPY_wvf_snd.mp3\n"
     ]
    },
    {
     "name": "stderr",
     "output_type": "stream",
     "text": [
      "                                                       \r"
     ]
    },
    {
     "name": "stdout",
     "output_type": "stream",
     "text": [
      "MoviePy - Done.\n",
      "Moviepy - Writing video Ses01F_impro03_15.mp4\n",
      "\n"
     ]
    },
    {
     "name": "stderr",
     "output_type": "stream",
     "text": [
      "                                                             \r"
     ]
    },
    {
     "name": "stdout",
     "output_type": "stream",
     "text": [
      "Moviepy - Done !\n",
      "Moviepy - video ready Ses01F_impro03_15.mp4\n",
      "Moviepy - Building video Ses01F_impro03_16.mp4.\n",
      "MoviePy - Writing audio in Ses01F_impro03_16TEMP_MPY_wvf_snd.mp3\n"
     ]
    },
    {
     "name": "stderr",
     "output_type": "stream",
     "text": [
      "                                                       \r"
     ]
    },
    {
     "name": "stdout",
     "output_type": "stream",
     "text": [
      "MoviePy - Done.\n",
      "Moviepy - Writing video Ses01F_impro03_16.mp4\n",
      "\n"
     ]
    },
    {
     "name": "stderr",
     "output_type": "stream",
     "text": [
      "                                                             \r"
     ]
    },
    {
     "name": "stdout",
     "output_type": "stream",
     "text": [
      "Moviepy - Done !\n",
      "Moviepy - video ready Ses01F_impro03_16.mp4\n",
      "Moviepy - Building video Ses01F_impro03_17.mp4.\n",
      "MoviePy - Writing audio in Ses01F_impro03_17TEMP_MPY_wvf_snd.mp3\n"
     ]
    },
    {
     "name": "stderr",
     "output_type": "stream",
     "text": [
      "                                                       \r"
     ]
    },
    {
     "name": "stdout",
     "output_type": "stream",
     "text": [
      "MoviePy - Done.\n",
      "Moviepy - Writing video Ses01F_impro03_17.mp4\n",
      "\n"
     ]
    },
    {
     "name": "stderr",
     "output_type": "stream",
     "text": [
      "                                                   "
     ]
    },
    {
     "name": "stdout",
     "output_type": "stream",
     "text": [
      "Moviepy - Done !\n",
      "Moviepy - video ready Ses01F_impro03_17.mp4\n"
     ]
    },
    {
     "name": "stderr",
     "output_type": "stream",
     "text": [
      "\r"
     ]
    },
    {
     "name": "stdout",
     "output_type": "stream",
     "text": [
      "Moviepy - Building video Ses01F_impro03_18.mp4.\n",
      "MoviePy - Writing audio in Ses01F_impro03_18TEMP_MPY_wvf_snd.mp3\n"
     ]
    },
    {
     "name": "stderr",
     "output_type": "stream",
     "text": [
      "                                                       \r"
     ]
    },
    {
     "name": "stdout",
     "output_type": "stream",
     "text": [
      "MoviePy - Done.\n",
      "Moviepy - Writing video Ses01F_impro03_18.mp4\n",
      "\n"
     ]
    },
    {
     "name": "stderr",
     "output_type": "stream",
     "text": [
      "                                                   "
     ]
    },
    {
     "name": "stdout",
     "output_type": "stream",
     "text": [
      "Moviepy - Done !\n",
      "Moviepy - video ready Ses01F_impro03_18.mp4\n"
     ]
    },
    {
     "name": "stderr",
     "output_type": "stream",
     "text": [
      "\r"
     ]
    },
    {
     "name": "stdout",
     "output_type": "stream",
     "text": [
      "Moviepy - Building video Ses01F_impro03_19.mp4.\n",
      "MoviePy - Writing audio in Ses01F_impro03_19TEMP_MPY_wvf_snd.mp3\n"
     ]
    },
    {
     "name": "stderr",
     "output_type": "stream",
     "text": [
      "                                                        \r"
     ]
    },
    {
     "name": "stdout",
     "output_type": "stream",
     "text": [
      "MoviePy - Done.\n",
      "Moviepy - Writing video Ses01F_impro03_19.mp4\n",
      "\n"
     ]
    },
    {
     "name": "stderr",
     "output_type": "stream",
     "text": [
      "                                                              \r"
     ]
    },
    {
     "name": "stdout",
     "output_type": "stream",
     "text": [
      "Moviepy - Done !\n",
      "Moviepy - video ready Ses01F_impro03_19.mp4\n",
      "Moviepy - Building video Ses01F_impro03_20.mp4.\n",
      "MoviePy - Writing audio in Ses01F_impro03_20TEMP_MPY_wvf_snd.mp3\n"
     ]
    },
    {
     "name": "stderr",
     "output_type": "stream",
     "text": [
      "                                                       \r"
     ]
    },
    {
     "name": "stdout",
     "output_type": "stream",
     "text": [
      "MoviePy - Done.\n",
      "Moviepy - Writing video Ses01F_impro03_20.mp4\n",
      "\n"
     ]
    },
    {
     "name": "stderr",
     "output_type": "stream",
     "text": [
      "                                                             \r"
     ]
    },
    {
     "name": "stdout",
     "output_type": "stream",
     "text": [
      "Moviepy - Done !\n",
      "Moviepy - video ready Ses01F_impro03_20.mp4\n",
      "Moviepy - Building video Ses01F_impro03_21.mp4.\n",
      "MoviePy - Writing audio in Ses01F_impro03_21TEMP_MPY_wvf_snd.mp3\n"
     ]
    },
    {
     "name": "stderr",
     "output_type": "stream",
     "text": [
      "                                                       \r"
     ]
    },
    {
     "name": "stdout",
     "output_type": "stream",
     "text": [
      "MoviePy - Done.\n",
      "Moviepy - Writing video Ses01F_impro03_21.mp4\n",
      "\n"
     ]
    },
    {
     "name": "stderr",
     "output_type": "stream",
     "text": [
      "                                                             \r"
     ]
    },
    {
     "name": "stdout",
     "output_type": "stream",
     "text": [
      "Moviepy - Done !\n",
      "Moviepy - video ready Ses01F_impro03_21.mp4\n",
      "Moviepy - Building video Ses01F_impro03_22.mp4.\n",
      "MoviePy - Writing audio in Ses01F_impro03_22TEMP_MPY_wvf_snd.mp3\n"
     ]
    },
    {
     "name": "stderr",
     "output_type": "stream",
     "text": [
      "                                                       \r"
     ]
    },
    {
     "name": "stdout",
     "output_type": "stream",
     "text": [
      "MoviePy - Done.\n",
      "Moviepy - Writing video Ses01F_impro03_22.mp4\n",
      "\n"
     ]
    },
    {
     "name": "stderr",
     "output_type": "stream",
     "text": [
      "                                                   \r"
     ]
    },
    {
     "name": "stdout",
     "output_type": "stream",
     "text": [
      "Moviepy - Done !\n",
      "Moviepy - video ready Ses01F_impro03_22.mp4\n",
      "Moviepy - Building video Ses01F_impro03_23.mp4.\n",
      "MoviePy - Writing audio in Ses01F_impro03_23TEMP_MPY_wvf_snd.mp3\n"
     ]
    },
    {
     "name": "stderr",
     "output_type": "stream",
     "text": [
      "                                                       \r"
     ]
    },
    {
     "name": "stdout",
     "output_type": "stream",
     "text": [
      "MoviePy - Done.\n",
      "Moviepy - Writing video Ses01F_impro03_23.mp4\n",
      "\n"
     ]
    },
    {
     "name": "stderr",
     "output_type": "stream",
     "text": [
      "                                                              \r"
     ]
    },
    {
     "name": "stdout",
     "output_type": "stream",
     "text": [
      "Moviepy - Done !\n",
      "Moviepy - video ready Ses01F_impro03_23.mp4\n",
      "Moviepy - Building video Ses01F_impro03_25.mp4.\n",
      "MoviePy - Writing audio in Ses01F_impro03_25TEMP_MPY_wvf_snd.mp3\n"
     ]
    },
    {
     "name": "stderr",
     "output_type": "stream",
     "text": [
      "                                                       \r"
     ]
    },
    {
     "name": "stdout",
     "output_type": "stream",
     "text": [
      "MoviePy - Done.\n",
      "Moviepy - Writing video Ses01F_impro03_25.mp4\n",
      "\n"
     ]
    },
    {
     "name": "stderr",
     "output_type": "stream",
     "text": [
      "                                                   \r"
     ]
    },
    {
     "name": "stdout",
     "output_type": "stream",
     "text": [
      "Moviepy - Done !\n",
      "Moviepy - video ready Ses01F_impro03_25.mp4\n",
      "Moviepy - Building video Ses01F_impro03_27.mp4.\n",
      "MoviePy - Writing audio in Ses01F_impro03_27TEMP_MPY_wvf_snd.mp3\n"
     ]
    },
    {
     "name": "stderr",
     "output_type": "stream",
     "text": [
      "                                                       \r"
     ]
    },
    {
     "name": "stdout",
     "output_type": "stream",
     "text": [
      "MoviePy - Done.\n",
      "Moviepy - Writing video Ses01F_impro03_27.mp4\n",
      "\n"
     ]
    },
    {
     "name": "stderr",
     "output_type": "stream",
     "text": [
      "                                                              \r"
     ]
    },
    {
     "name": "stdout",
     "output_type": "stream",
     "text": [
      "Moviepy - Done !\n",
      "Moviepy - video ready Ses01F_impro03_27.mp4\n",
      "Moviepy - Building video Ses01F_impro03_28.mp4.\n",
      "MoviePy - Writing audio in Ses01F_impro03_28TEMP_MPY_wvf_snd.mp3\n"
     ]
    },
    {
     "name": "stderr",
     "output_type": "stream",
     "text": [
      "                                                        \r"
     ]
    },
    {
     "name": "stdout",
     "output_type": "stream",
     "text": [
      "MoviePy - Done.\n",
      "Moviepy - Writing video Ses01F_impro03_28.mp4\n",
      "\n"
     ]
    },
    {
     "name": "stderr",
     "output_type": "stream",
     "text": [
      "                                                              \r"
     ]
    },
    {
     "name": "stdout",
     "output_type": "stream",
     "text": [
      "Moviepy - Done !\n",
      "Moviepy - video ready Ses01F_impro03_28.mp4\n",
      "Moviepy - Building video Ses01F_impro03_29.mp4.\n",
      "MoviePy - Writing audio in Ses01F_impro03_29TEMP_MPY_wvf_snd.mp3\n"
     ]
    },
    {
     "name": "stderr",
     "output_type": "stream",
     "text": [
      "                                                       \r"
     ]
    },
    {
     "name": "stdout",
     "output_type": "stream",
     "text": [
      "MoviePy - Done.\n",
      "Moviepy - Writing video Ses01F_impro03_29.mp4\n",
      "\n"
     ]
    },
    {
     "name": "stderr",
     "output_type": "stream",
     "text": [
      "                                                             \r"
     ]
    },
    {
     "name": "stdout",
     "output_type": "stream",
     "text": [
      "Moviepy - Done !\n",
      "Moviepy - video ready Ses01F_impro03_29.mp4\n",
      "Moviepy - Building video Ses01F_impro03_30.mp4.\n",
      "MoviePy - Writing audio in Ses01F_impro03_30TEMP_MPY_wvf_snd.mp3\n"
     ]
    },
    {
     "name": "stderr",
     "output_type": "stream",
     "text": [
      "                                                        \r"
     ]
    },
    {
     "name": "stdout",
     "output_type": "stream",
     "text": [
      "MoviePy - Done.\n",
      "Moviepy - Writing video Ses01F_impro03_30.mp4\n",
      "\n"
     ]
    },
    {
     "name": "stderr",
     "output_type": "stream",
     "text": [
      "                                                               \r"
     ]
    },
    {
     "name": "stdout",
     "output_type": "stream",
     "text": [
      "Moviepy - Done !\n",
      "Moviepy - video ready Ses01F_impro03_30.mp4\n",
      "Moviepy - Building video Ses01F_impro03_31.mp4.\n",
      "MoviePy - Writing audio in Ses01F_impro03_31TEMP_MPY_wvf_snd.mp3\n"
     ]
    },
    {
     "name": "stderr",
     "output_type": "stream",
     "text": [
      "                                                       \r"
     ]
    },
    {
     "name": "stdout",
     "output_type": "stream",
     "text": [
      "MoviePy - Done.\n",
      "Moviepy - Writing video Ses01F_impro03_31.mp4\n",
      "\n"
     ]
    },
    {
     "name": "stderr",
     "output_type": "stream",
     "text": [
      "                                                              \r"
     ]
    },
    {
     "name": "stdout",
     "output_type": "stream",
     "text": [
      "Moviepy - Done !\n",
      "Moviepy - video ready Ses01F_impro03_31.mp4\n",
      "Moviepy - Building video Ses01F_impro03_32.mp4.\n",
      "MoviePy - Writing audio in Ses01F_impro03_32TEMP_MPY_wvf_snd.mp3\n"
     ]
    },
    {
     "name": "stderr",
     "output_type": "stream",
     "text": [
      "                                                        \r"
     ]
    },
    {
     "name": "stdout",
     "output_type": "stream",
     "text": [
      "MoviePy - Done.\n",
      "Moviepy - Writing video Ses01F_impro03_32.mp4\n",
      "\n"
     ]
    },
    {
     "name": "stderr",
     "output_type": "stream",
     "text": [
      "                                                              \r"
     ]
    },
    {
     "name": "stdout",
     "output_type": "stream",
     "text": [
      "Moviepy - Done !\n",
      "Moviepy - video ready Ses01F_impro03_32.mp4\n",
      "Moviepy - Building video Ses01F_impro03_33.mp4.\n",
      "MoviePy - Writing audio in Ses01F_impro03_33TEMP_MPY_wvf_snd.mp3\n"
     ]
    },
    {
     "name": "stderr",
     "output_type": "stream",
     "text": [
      "                                                       \r"
     ]
    },
    {
     "name": "stdout",
     "output_type": "stream",
     "text": [
      "MoviePy - Done.\n",
      "Moviepy - Writing video Ses01F_impro03_33.mp4\n",
      "\n"
     ]
    },
    {
     "name": "stderr",
     "output_type": "stream",
     "text": [
      "                                                   \r"
     ]
    },
    {
     "name": "stdout",
     "output_type": "stream",
     "text": [
      "Moviepy - Done !\n",
      "Moviepy - video ready Ses01F_impro03_33.mp4\n",
      "Moviepy - Building video Ses01F_impro03_34.mp4.\n",
      "MoviePy - Writing audio in Ses01F_impro03_34TEMP_MPY_wvf_snd.mp3\n"
     ]
    },
    {
     "name": "stderr",
     "output_type": "stream",
     "text": [
      "                                                       \r"
     ]
    },
    {
     "name": "stdout",
     "output_type": "stream",
     "text": [
      "MoviePy - Done.\n",
      "Moviepy - Writing video Ses01F_impro03_34.mp4\n",
      "\n"
     ]
    },
    {
     "name": "stderr",
     "output_type": "stream",
     "text": [
      "                                                   "
     ]
    },
    {
     "name": "stdout",
     "output_type": "stream",
     "text": [
      "Moviepy - Done !\n",
      "Moviepy - video ready Ses01F_impro03_34.mp4\n"
     ]
    },
    {
     "name": "stderr",
     "output_type": "stream",
     "text": [
      "\r"
     ]
    },
    {
     "name": "stdout",
     "output_type": "stream",
     "text": [
      "Moviepy - Building video Ses01F_impro03_35.mp4.\n",
      "MoviePy - Writing audio in Ses01F_impro03_35TEMP_MPY_wvf_snd.mp3\n"
     ]
    },
    {
     "name": "stderr",
     "output_type": "stream",
     "text": [
      "                                                       \r"
     ]
    },
    {
     "name": "stdout",
     "output_type": "stream",
     "text": [
      "MoviePy - Done.\n",
      "Moviepy - Writing video Ses01F_impro03_35.mp4\n",
      "\n"
     ]
    },
    {
     "name": "stderr",
     "output_type": "stream",
     "text": [
      "                                                   "
     ]
    },
    {
     "name": "stdout",
     "output_type": "stream",
     "text": [
      "Moviepy - Done !\n",
      "Moviepy - video ready Ses01F_impro03_35.mp4\n"
     ]
    },
    {
     "name": "stderr",
     "output_type": "stream",
     "text": [
      "\r"
     ]
    },
    {
     "name": "stdout",
     "output_type": "stream",
     "text": [
      "Moviepy - Building video Ses01F_impro03_36.mp4.\n",
      "MoviePy - Writing audio in Ses01F_impro03_36TEMP_MPY_wvf_snd.mp3\n"
     ]
    },
    {
     "name": "stderr",
     "output_type": "stream",
     "text": [
      "                                                       \r"
     ]
    },
    {
     "name": "stdout",
     "output_type": "stream",
     "text": [
      "MoviePy - Done.\n",
      "Moviepy - Writing video Ses01F_impro03_36.mp4\n",
      "\n"
     ]
    },
    {
     "name": "stderr",
     "output_type": "stream",
     "text": [
      "                                                             \r"
     ]
    },
    {
     "name": "stdout",
     "output_type": "stream",
     "text": [
      "Moviepy - Done !\n",
      "Moviepy - video ready Ses01F_impro03_36.mp4\n",
      "Moviepy - Building video Ses01F_impro03_37.mp4.\n",
      "MoviePy - Writing audio in Ses01F_impro03_37TEMP_MPY_wvf_snd.mp3\n"
     ]
    },
    {
     "name": "stderr",
     "output_type": "stream",
     "text": [
      "                                                       \r"
     ]
    },
    {
     "name": "stdout",
     "output_type": "stream",
     "text": [
      "MoviePy - Done.\n",
      "Moviepy - Writing video Ses01F_impro03_37.mp4\n",
      "\n"
     ]
    },
    {
     "name": "stderr",
     "output_type": "stream",
     "text": [
      "                                                   \r"
     ]
    },
    {
     "name": "stdout",
     "output_type": "stream",
     "text": [
      "Moviepy - Done !\n",
      "Moviepy - video ready Ses01F_impro03_37.mp4\n",
      "Moviepy - Building video Ses01F_impro03_38.mp4.\n",
      "MoviePy - Writing audio in Ses01F_impro03_38TEMP_MPY_wvf_snd.mp3\n"
     ]
    },
    {
     "name": "stderr",
     "output_type": "stream",
     "text": [
      "                                                       \r"
     ]
    },
    {
     "name": "stdout",
     "output_type": "stream",
     "text": [
      "MoviePy - Done.\n",
      "Moviepy - Writing video Ses01F_impro03_38.mp4\n",
      "\n"
     ]
    },
    {
     "name": "stderr",
     "output_type": "stream",
     "text": [
      "                                                             \r"
     ]
    },
    {
     "name": "stdout",
     "output_type": "stream",
     "text": [
      "Moviepy - Done !\n",
      "Moviepy - video ready Ses01F_impro03_38.mp4\n",
      "Moviepy - Building video Ses01F_impro03_39.mp4.\n",
      "MoviePy - Writing audio in Ses01F_impro03_39TEMP_MPY_wvf_snd.mp3\n"
     ]
    },
    {
     "name": "stderr",
     "output_type": "stream",
     "text": [
      "                                                       \r"
     ]
    },
    {
     "name": "stdout",
     "output_type": "stream",
     "text": [
      "MoviePy - Done.\n",
      "Moviepy - Writing video Ses01F_impro03_39.mp4\n",
      "\n"
     ]
    },
    {
     "name": "stderr",
     "output_type": "stream",
     "text": [
      "                                                   "
     ]
    },
    {
     "name": "stdout",
     "output_type": "stream",
     "text": [
      "Moviepy - Done !\n",
      "Moviepy - video ready Ses01F_impro03_39.mp4\n"
     ]
    },
    {
     "name": "stderr",
     "output_type": "stream",
     "text": [
      "\r"
     ]
    },
    {
     "name": "stdout",
     "output_type": "stream",
     "text": [
      "Moviepy - Building video Ses01F_impro03_40.mp4.\n",
      "MoviePy - Writing audio in Ses01F_impro03_40TEMP_MPY_wvf_snd.mp3\n"
     ]
    },
    {
     "name": "stderr",
     "output_type": "stream",
     "text": [
      "                                                       \r"
     ]
    },
    {
     "name": "stdout",
     "output_type": "stream",
     "text": [
      "MoviePy - Done.\n",
      "Moviepy - Writing video Ses01F_impro03_40.mp4\n",
      "\n"
     ]
    },
    {
     "name": "stderr",
     "output_type": "stream",
     "text": [
      "                                                   "
     ]
    },
    {
     "name": "stdout",
     "output_type": "stream",
     "text": [
      "Moviepy - Done !\n",
      "Moviepy - video ready Ses01F_impro03_40.mp4\n"
     ]
    },
    {
     "name": "stderr",
     "output_type": "stream",
     "text": [
      "\r"
     ]
    },
    {
     "name": "stdout",
     "output_type": "stream",
     "text": [
      "Moviepy - Building video Ses01F_impro03_41.mp4.\n",
      "MoviePy - Writing audio in Ses01F_impro03_41TEMP_MPY_wvf_snd.mp3\n"
     ]
    },
    {
     "name": "stderr",
     "output_type": "stream",
     "text": [
      "                                                        \r"
     ]
    },
    {
     "name": "stdout",
     "output_type": "stream",
     "text": [
      "MoviePy - Done.\n",
      "Moviepy - Writing video Ses01F_impro03_41.mp4\n",
      "\n"
     ]
    },
    {
     "name": "stderr",
     "output_type": "stream",
     "text": [
      "                                                              \r"
     ]
    },
    {
     "name": "stdout",
     "output_type": "stream",
     "text": [
      "Moviepy - Done !\n",
      "Moviepy - video ready Ses01F_impro03_41.mp4\n",
      "Moviepy - Building video Ses01F_impro03_42.mp4.\n",
      "MoviePy - Writing audio in Ses01F_impro03_42TEMP_MPY_wvf_snd.mp3\n"
     ]
    },
    {
     "name": "stderr",
     "output_type": "stream",
     "text": [
      "                                                       \r"
     ]
    },
    {
     "name": "stdout",
     "output_type": "stream",
     "text": [
      "MoviePy - Done.\n",
      "Moviepy - Writing video Ses01F_impro03_42.mp4\n",
      "\n"
     ]
    },
    {
     "name": "stderr",
     "output_type": "stream",
     "text": [
      "                                                   \r"
     ]
    },
    {
     "name": "stdout",
     "output_type": "stream",
     "text": [
      "Moviepy - Done !\n",
      "Moviepy - video ready Ses01F_impro03_42.mp4\n",
      "Moviepy - Building video Ses01F_impro03_43.mp4.\n",
      "MoviePy - Writing audio in Ses01F_impro03_43TEMP_MPY_wvf_snd.mp3\n"
     ]
    },
    {
     "name": "stderr",
     "output_type": "stream",
     "text": [
      "                                                        \r"
     ]
    },
    {
     "name": "stdout",
     "output_type": "stream",
     "text": [
      "MoviePy - Done.\n",
      "Moviepy - Writing video Ses01F_impro03_43.mp4\n",
      "\n"
     ]
    },
    {
     "name": "stderr",
     "output_type": "stream",
     "text": [
      "                                                              \r"
     ]
    },
    {
     "name": "stdout",
     "output_type": "stream",
     "text": [
      "Moviepy - Done !\n",
      "Moviepy - video ready Ses01F_impro03_43.mp4\n",
      "Moviepy - Building video Ses01F_impro03_44.mp4.\n",
      "MoviePy - Writing audio in Ses01F_impro03_44TEMP_MPY_wvf_snd.mp3\n"
     ]
    },
    {
     "name": "stderr",
     "output_type": "stream",
     "text": [
      "                                                        \r"
     ]
    },
    {
     "name": "stdout",
     "output_type": "stream",
     "text": [
      "MoviePy - Done.\n",
      "Moviepy - Writing video Ses01F_impro03_44.mp4\n",
      "\n"
     ]
    },
    {
     "name": "stderr",
     "output_type": "stream",
     "text": [
      "                                                              \r"
     ]
    },
    {
     "name": "stdout",
     "output_type": "stream",
     "text": [
      "Moviepy - Done !\n",
      "Moviepy - video ready Ses01F_impro03_44.mp4\n",
      "Moviepy - Building video Ses01F_impro03_45.mp4.\n",
      "MoviePy - Writing audio in Ses01F_impro03_45TEMP_MPY_wvf_snd.mp3\n"
     ]
    },
    {
     "name": "stderr",
     "output_type": "stream",
     "text": [
      "                                                       \r"
     ]
    },
    {
     "name": "stdout",
     "output_type": "stream",
     "text": [
      "MoviePy - Done.\n",
      "Moviepy - Writing video Ses01F_impro03_45.mp4\n",
      "\n"
     ]
    },
    {
     "name": "stderr",
     "output_type": "stream",
     "text": [
      "                                                   \r"
     ]
    },
    {
     "name": "stdout",
     "output_type": "stream",
     "text": [
      "Moviepy - Done !\n",
      "Moviepy - video ready Ses01F_impro03_45.mp4\n",
      "Moviepy - Building video Ses01F_impro03_46.mp4.\n",
      "MoviePy - Writing audio in Ses01F_impro03_46TEMP_MPY_wvf_snd.mp3\n"
     ]
    },
    {
     "name": "stderr",
     "output_type": "stream",
     "text": [
      "                                                       \r"
     ]
    },
    {
     "name": "stdout",
     "output_type": "stream",
     "text": [
      "MoviePy - Done.\n",
      "Moviepy - Writing video Ses01F_impro03_46.mp4\n",
      "\n"
     ]
    },
    {
     "name": "stderr",
     "output_type": "stream",
     "text": [
      "                                                   \r"
     ]
    },
    {
     "name": "stdout",
     "output_type": "stream",
     "text": [
      "Moviepy - Done !\n",
      "Moviepy - video ready Ses01F_impro03_46.mp4\n",
      "Moviepy - Building video Ses01F_impro03_47.mp4.\n",
      "MoviePy - Writing audio in Ses01F_impro03_47TEMP_MPY_wvf_snd.mp3\n"
     ]
    },
    {
     "name": "stderr",
     "output_type": "stream",
     "text": [
      "                                                       \r"
     ]
    },
    {
     "name": "stdout",
     "output_type": "stream",
     "text": [
      "MoviePy - Done.\n",
      "Moviepy - Writing video Ses01F_impro03_47.mp4\n",
      "\n"
     ]
    },
    {
     "name": "stderr",
     "output_type": "stream",
     "text": [
      "                                                   "
     ]
    },
    {
     "name": "stdout",
     "output_type": "stream",
     "text": [
      "Moviepy - Done !\n",
      "Moviepy - video ready Ses01F_impro03_47.mp4\n"
     ]
    },
    {
     "name": "stderr",
     "output_type": "stream",
     "text": [
      "\r"
     ]
    },
    {
     "name": "stdout",
     "output_type": "stream",
     "text": [
      "Moviepy - Building video Ses01F_impro03_48.mp4.\n",
      "MoviePy - Writing audio in Ses01F_impro03_48TEMP_MPY_wvf_snd.mp3\n"
     ]
    },
    {
     "name": "stderr",
     "output_type": "stream",
     "text": [
      "                                                       \r"
     ]
    },
    {
     "name": "stdout",
     "output_type": "stream",
     "text": [
      "MoviePy - Done.\n",
      "Moviepy - Writing video Ses01F_impro03_48.mp4\n",
      "\n"
     ]
    },
    {
     "name": "stderr",
     "output_type": "stream",
     "text": [
      "                                                              \r"
     ]
    },
    {
     "name": "stdout",
     "output_type": "stream",
     "text": [
      "Moviepy - Done !\n",
      "Moviepy - video ready Ses01F_impro03_48.mp4\n",
      "Moviepy - Building video Ses01F_impro03_49.mp4.\n",
      "MoviePy - Writing audio in Ses01F_impro03_49TEMP_MPY_wvf_snd.mp3\n"
     ]
    },
    {
     "name": "stderr",
     "output_type": "stream",
     "text": [
      "                                                       \r"
     ]
    },
    {
     "name": "stdout",
     "output_type": "stream",
     "text": [
      "MoviePy - Done.\n",
      "Moviepy - Writing video Ses01F_impro03_49.mp4\n",
      "\n"
     ]
    },
    {
     "name": "stderr",
     "output_type": "stream",
     "text": [
      "                                                   \r"
     ]
    },
    {
     "name": "stdout",
     "output_type": "stream",
     "text": [
      "Moviepy - Done !\n",
      "Moviepy - video ready Ses01F_impro03_49.mp4\n",
      "Moviepy - Building video Ses01F_impro03_50.mp4.\n",
      "MoviePy - Writing audio in Ses01F_impro03_50TEMP_MPY_wvf_snd.mp3\n"
     ]
    },
    {
     "name": "stderr",
     "output_type": "stream",
     "text": [
      "                                                       \r"
     ]
    },
    {
     "name": "stdout",
     "output_type": "stream",
     "text": [
      "MoviePy - Done.\n",
      "Moviepy - Writing video Ses01F_impro03_50.mp4\n",
      "\n"
     ]
    },
    {
     "name": "stderr",
     "output_type": "stream",
     "text": [
      "                                                              \r"
     ]
    },
    {
     "name": "stdout",
     "output_type": "stream",
     "text": [
      "Moviepy - Done !\n",
      "Moviepy - video ready Ses01F_impro03_50.mp4\n",
      "Moviepy - Building video Ses01F_impro03_51.mp4.\n",
      "MoviePy - Writing audio in Ses01F_impro03_51TEMP_MPY_wvf_snd.mp3\n"
     ]
    },
    {
     "name": "stderr",
     "output_type": "stream",
     "text": [
      "                                                       \r"
     ]
    },
    {
     "name": "stdout",
     "output_type": "stream",
     "text": [
      "MoviePy - Done.\n",
      "Moviepy - Writing video Ses01F_impro03_51.mp4\n",
      "\n"
     ]
    },
    {
     "name": "stderr",
     "output_type": "stream",
     "text": [
      "                                                              \r"
     ]
    },
    {
     "name": "stdout",
     "output_type": "stream",
     "text": [
      "Moviepy - Done !\n",
      "Moviepy - video ready Ses01F_impro03_51.mp4\n",
      "Moviepy - Building video Ses01F_impro03_52.mp4.\n",
      "MoviePy - Writing audio in Ses01F_impro03_52TEMP_MPY_wvf_snd.mp3\n"
     ]
    },
    {
     "name": "stderr",
     "output_type": "stream",
     "text": [
      "                                                       \r"
     ]
    },
    {
     "name": "stdout",
     "output_type": "stream",
     "text": [
      "MoviePy - Done.\n",
      "Moviepy - Writing video Ses01F_impro03_52.mp4\n",
      "\n"
     ]
    },
    {
     "name": "stderr",
     "output_type": "stream",
     "text": [
      "                                                   \r"
     ]
    },
    {
     "name": "stdout",
     "output_type": "stream",
     "text": [
      "Moviepy - Done !\n",
      "Moviepy - video ready Ses01F_impro03_52.mp4\n",
      "Moviepy - Building video Ses01F_impro03_53.mp4.\n",
      "MoviePy - Writing audio in Ses01F_impro03_53TEMP_MPY_wvf_snd.mp3\n"
     ]
    },
    {
     "name": "stderr",
     "output_type": "stream",
     "text": [
      "                                                        \r"
     ]
    },
    {
     "name": "stdout",
     "output_type": "stream",
     "text": [
      "MoviePy - Done.\n",
      "Moviepy - Writing video Ses01F_impro03_53.mp4\n",
      "\n"
     ]
    },
    {
     "name": "stderr",
     "output_type": "stream",
     "text": [
      "                                                               \r"
     ]
    },
    {
     "name": "stdout",
     "output_type": "stream",
     "text": [
      "Moviepy - Done !\n",
      "Moviepy - video ready Ses01F_impro03_53.mp4\n"
     ]
    }
   ],
   "source": [
    "session = \"Ses01F_impro03\"\n",
    "f = f\"IEMOCAP_full_release/Session1/dialog/transcriptions/{session}.txt\"\n",
    "video = f\"IEMOCAP_full_release/Session1/dialog/avi/DivX/{session}.avi\"\n",
    "\n",
    "with open(f, \"r\") as file:\n",
    "    lines = file.readlines()\n",
    "\n",
    "d = {\"start\": [], \"end\": [], \"speaker\": [], \"utterance\": []}\n",
    "\n",
    "for i, line in enumerate(lines):\n",
    "    speaker_info, utterance = line.split(\":\")[0], line.split(\":\")[1]\n",
    "    pattern = r\"(F|M)\\d+\\s\\[(\\d+\\.\\d+)-(\\d+\\.\\d+)\\]\"\n",
    "    match = re.search(pattern, speaker_info)\n",
    "    if match is None:\n",
    "        continue\n",
    "    start = match.group(2)\n",
    "    end = match.group(3)\n",
    "    d[\"start\"].append(start) \n",
    "    d[\"end\"].append(end)\n",
    "    d[\"speaker\"].append(match.group(1))\n",
    "    d[\"utterance\"].append(utterance.strip())\n",
    "\n",
    "    clip = VideoFileClip(video).subclip(start, end)  # This form is a Z.X.four.\\n'\n",
    "    clip.write_videofile(f\"{session}_{i}.mp4\")\n",
    "\n",
    "df = pd.DataFrame(d)\n",
    "# df.to_csv(f\"IEMOCAP_full_release/Session1/dialog/transcriptions/{session}.csv\")"
   ]
  },
  {
   "cell_type": "code",
   "execution_count": null,
   "id": "4c66aade",
   "metadata": {},
   "outputs": [],
   "source": []
  }
 ],
 "metadata": {
  "kernelspec": {
   "display_name": "dac",
   "language": "python",
   "name": "python3"
  },
  "language_info": {
   "codemirror_mode": {
    "name": "ipython",
    "version": 3
   },
   "file_extension": ".py",
   "mimetype": "text/x-python",
   "name": "python",
   "nbconvert_exporter": "python",
   "pygments_lexer": "ipython3",
   "version": "3.12.9"
  }
 },
 "nbformat": 4,
 "nbformat_minor": 5
}
